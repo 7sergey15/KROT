{
 "cells": [
  {
   "cell_type": "code",
   "execution_count": 1,
   "id": "5df52100-1b9b-4b63-a3eb-3cb7b7780ca6",
   "metadata": {},
   "outputs": [
    {
     "name": "stdout",
     "output_type": "stream",
     "text": [
      "[[ 2  4  6]\n",
      " [ 8 10  0]\n",
      " [ 0  0  0]]\n"
     ]
    }
   ],
   "source": [
    "import numpy as np\n",
    "\n",
    "# Создаем массив 3x3 с числами от 1 до 9\n",
    "arr = np.arange(1, 10).reshape(3, 3)\n",
    "\n",
    "# Умножаем все элементы на 2\n",
    "arr *= 2\n",
    "\n",
    "# Заменяем элементы больше 10 на 0\n",
    "arr[arr > 10] = 0\n",
    "\n",
    "print(arr)"
   ]
  },
  {
   "cell_type": "code",
   "execution_count": 3,
   "id": "854ae481-e1c1-4a8d-a269-bda79686d65b",
   "metadata": {},
   "outputs": [
    {
     "name": "stdout",
     "output_type": "stream",
     "text": [
      "Элементы, кратные 5: [15  5 35  5]\n",
      "Обновленный массив: [16 77 99 16 77 86 -1 23 86 -1 72 51 34 -1 -1 74 76 36 56 79]\n"
     ]
    }
   ],
   "source": [
    "import numpy as np\n",
    "\n",
    "# Создаем массив из 20 случайных целых чисел от 1 до 100\n",
    "arr = np.random.randint(1, 101, 20)\n",
    "\n",
    "# Находим и выводим элементы, кратные 5\n",
    "divisible_by_5 = arr[arr % 5 == 0]\n",
    "print(\"Элементы, кратные 5:\", divisible_by_5)\n",
    "\n",
    "# Заменяем элементы кратные 5 на -1\n",
    "arr[arr % 5 == 0] = -1\n",
    "\n",
    "# Выводим обновленный массив\n",
    "print(\"Обновленный массив:\", arr)"
   ]
  },
  {
   "cell_type": "code",
   "execution_count": 5,
   "id": "90aa6717-48db-4b74-a01b-9d556bf6777c",
   "metadata": {},
   "outputs": [
    {
     "name": "stdout",
     "output_type": "stream",
     "text": [
      "Первый исходный массив:\n",
      " [[ 8 11 41 45  0]]\n",
      "Второй исходный массив:\n",
      " [[40  9 40 17 10]]\n",
      "\n",
      "Объединенный массив:\n",
      " [[ 8 11 41 45  0]\n",
      " [40  9 40 17 10]]\n",
      "\n",
      "Первый разделенный массив: [ 8 11 41 45  0]\n",
      "Второй разделенный массив: [40  9 40 17 10]\n"
     ]
    }
   ],
   "source": [
    "import numpy as np\n",
    "\n",
    "# Создаем два массива 1x5 со случайными числами от 0 до 50\n",
    "arr1 = np.random.randint(0, 51, (1, 5))\n",
    "arr2 = np.random.randint(0, 51, (1, 5))\n",
    "\n",
    "# Объединяем по строкам в массив 2x5\n",
    "combined = np.vstack((arr1, arr2))\n",
    "\n",
    "# Разделяем на два массива по 5 элементов каждый\n",
    "split1 = combined[0, :]  # Первая строка (5 элементов)\n",
    "split2 = combined[1, :]  # Вторая строка (5 элементов)\n",
    "\n",
    "print(\"Первый исходный массив:\\n\", arr1)\n",
    "print(\"Второй исходный массив:\\n\", arr2)\n",
    "print(\"\\nОбъединенный массив:\\n\", combined)\n",
    "print(\"\\nПервый разделенный массив:\", split1)\n",
    "print(\"Второй разделенный массив:\", split2)"
   ]
  },
  {
   "cell_type": "code",
   "execution_count": 7,
   "id": "b3bd33c4-f75e-4e3e-b791-e5a86b71edb6",
   "metadata": {},
   "outputs": [
    {
     "name": "stdout",
     "output_type": "stream",
     "text": [
      "Сумма всех элементов: 0.0\n",
      "Сумма положительных элементов: 127.55\n",
      "Сумма отрицательных элементов: -127.55\n"
     ]
    }
   ],
   "source": [
    "import numpy as np\n",
    "\n",
    "# Создаем массив из 50 равномерно распределенных чисел от -10 до 10\n",
    "arr = np.linspace(-10, 10, 50)\n",
    "\n",
    "# Вычисляем суммы\n",
    "total_sum = np.sum(arr)\n",
    "positive_sum = np.sum(arr[arr > 0])\n",
    "negative_sum = np.sum(arr[arr < 0])\n",
    "\n",
    "# Выводим результаты\n",
    "print(\"Сумма всех элементов:\", round(total_sum, 2))\n",
    "print(\"Сумма положительных элементов:\", round(positive_sum, 2))\n",
    "print(\"Сумма отрицательных элементов:\", round(negative_sum, 2))"
   ]
  },
  {
   "cell_type": "code",
   "execution_count": 9,
   "id": "976eef40-10b9-4853-b31a-0034b65cb178",
   "metadata": {},
   "outputs": [
    {
     "name": "stdout",
     "output_type": "stream",
     "text": [
      "Единичная матрица:\n",
      " [[1. 0. 0. 0.]\n",
      " [0. 1. 0. 0.]\n",
      " [0. 0. 1. 0.]\n",
      " [0. 0. 0. 1.]]\n",
      "\n",
      "Диагональная матрица:\n",
      " [[ 5  0  0  0]\n",
      " [ 0 10  0  0]\n",
      " [ 0  0 15  0]\n",
      " [ 0  0  0 20]]\n",
      "\n",
      "Сумма элементов единичной матрицы: 4.0\n",
      "Сумма элементов диагональной матрицы: 50\n",
      "\n",
      "Сравнение сумм: Суммы различны\n"
     ]
    }
   ],
   "source": [
    "import numpy as np\n",
    "\n",
    "# Создаем единичную матрицу 4x4\n",
    "identity_matrix = np.eye(4)\n",
    "\n",
    "# Создаем диагональную матрицу с заданными элементами\n",
    "diagonal_matrix = np.diag([5, 10, 15, 20])\n",
    "\n",
    "# Вычисляем суммы элементов\n",
    "sum_identity = np.sum(identity_matrix)\n",
    "sum_diagonal = np.sum(diagonal_matrix)\n",
    "\n",
    "# Выводим результаты\n",
    "print(\"Единичная матрица:\\n\", identity_matrix)\n",
    "print(\"\\nДиагональная матрица:\\n\", diagonal_matrix)\n",
    "print(\"\\nСумма элементов единичной матрицы:\", sum_identity)\n",
    "print(\"Сумма элементов диагональной матрицы:\", sum_diagonal)\n",
    "print(\"\\nСравнение сумм:\", \n",
    "      \"Суммы равны\" if sum_identity == sum_diagonal else \"Суммы различны\")"
   ]
  },
  {
   "cell_type": "code",
   "execution_count": 11,
   "id": "901c0970-ff1a-4463-b96e-964c10bf752b",
   "metadata": {},
   "outputs": [
    {
     "name": "stdout",
     "output_type": "stream",
     "text": [
      "Первая матрица:\n",
      " [[17 20  2]\n",
      " [18  4 10]\n",
      " [20  4 15]]\n",
      "\n",
      "Вторая матрица:\n",
      " [[ 9  3  2]\n",
      " [10 13  3]\n",
      " [ 7  7 15]]\n",
      "\n",
      "Сумма матриц:\n",
      " [[26 23  4]\n",
      " [28 17 13]\n",
      " [27 11 30]]\n",
      "\n",
      "Разность матриц (Первая - Вторая):\n",
      " [[ 8 17  0]\n",
      " [ 8 -9  7]\n",
      " [13 -3  0]]\n",
      "\n",
      "Поэлементное произведение:\n",
      " [[153  60   4]\n",
      " [180  52  30]\n",
      " [140  28 225]]\n"
     ]
    }
   ],
   "source": [
    "import numpy as np\n",
    "\n",
    "# Создаем две матрицы 3x3 со случайными числами от 1 до 20\n",
    "matrix1 = np.random.randint(1, 21, size=(3, 3))\n",
    "matrix2 = np.random.randint(1, 21, size=(3, 3))\n",
    "\n",
    "# Вычисляем операции\n",
    "sum_matrix = matrix1 + matrix2\n",
    "diff_matrix = matrix1 - matrix2\n",
    "prod_matrix = matrix1 * matrix2\n",
    "\n",
    "# Выводим результаты\n",
    "print(\"Первая матрица:\\n\", matrix1)\n",
    "print(\"\\nВторая матрица:\\n\", matrix2)\n",
    "print(\"\\nСумма матриц:\\n\", sum_matrix)\n",
    "print(\"\\nРазность матриц (Первая - Вторая):\\n\", diff_matrix)\n",
    "print(\"\\nПоэлементное произведение:\\n\", prod_matrix)"
   ]
  },
  {
   "cell_type": "code",
   "execution_count": 13,
   "id": "85d6594c-383d-41d0-b476-ab0a3798366b",
   "metadata": {},
   "outputs": [
    {
     "name": "stdout",
     "output_type": "stream",
     "text": [
      "Первая матрица (2x3):\n",
      " [[2 6 5]\n",
      " [2 3 9]]\n",
      "\n",
      "Вторая матрица (3x2):\n",
      " [[6 1]\n",
      " [3 5]\n",
      " [4 2]]\n",
      "\n",
      "Результат умножения (2x2):\n",
      " [[50 42]\n",
      " [57 35]]\n"
     ]
    }
   ],
   "source": [
    "import numpy as np\n",
    "\n",
    "# Создаем матрицы\n",
    "matrix1 = np.random.randint(1, 11, size=(2, 3))\n",
    "matrix2 = np.random.randint(1, 11, size=(3, 2))\n",
    "\n",
    "# Выполняем матричное умножение\n",
    "result = matrix1 @ matrix2  # Можно также использовать np.dot(matrix1, matrix2)\n",
    "\n",
    "# Выводим результаты\n",
    "print(\"Первая матрица (2x3):\\n\", matrix1)\n",
    "print(\"\\nВторая матрица (3x2):\\n\", matrix2)\n",
    "print(\"\\nРезультат умножения (2x2):\\n\", result)"
   ]
  },
  {
   "cell_type": "code",
   "execution_count": 15,
   "id": "01bc5eae-52b9-42cf-a770-2a6049b20ab7",
   "metadata": {},
   "outputs": [
    {
     "name": "stdout",
     "output_type": "stream",
     "text": [
      "Исходная матрица:\n",
      " [[4 7 2]\n",
      " [6 8 7]\n",
      " [6 9 3]]\n",
      "\n",
      "Определитель матрицы: 24.0\n",
      "\n",
      "Обратная матрица (округлено до 3 знаков):\n",
      " [[-1.625 -0.125  1.375]\n",
      " [ 1.    -0.    -0.667]\n",
      " [ 0.25   0.25  -0.417]]\n"
     ]
    }
   ],
   "source": [
    "import numpy as np\n",
    "\n",
    "# Создаем случайную матрицу 3x3 с целыми числами от 1 до 10\n",
    "matrix = np.random.randint(1, 10, size=(3, 3))\n",
    "\n",
    "# Вычисляем определитель\n",
    "det = np.linalg.det(matrix)\n",
    "\n",
    "print(\"Исходная матрица:\\n\", matrix)\n",
    "print(\"\\nОпределитель матрицы:\", round(det, 2))\n",
    "\n",
    "# Проверяем обратимость матрицы (с учетом погрешности вычислений)\n",
    "if not np.isclose(det, 0, atol=1e-6):\n",
    "    # Вычисляем обратную матрицу\n",
    "    inv_matrix = np.linalg.inv(matrix)\n",
    "    print(\"\\nОбратная матрица (округлено до 3 знаков):\\n\", np.round(inv_matrix, 3))\n",
    "else:\n",
    "    print(\"\\nМатрица вырождена, обратной не существует\")"
   ]
  },
  {
   "cell_type": "code",
   "execution_count": 18,
   "id": "e222a25b-7c75-4c5c-8554-b1ccf1930f4f",
   "metadata": {},
   "outputs": [
    {
     "name": "stdout",
     "output_type": "stream",
     "text": [
      "Исходная матрица:\n",
      "[[ 1 15 45 13]\n",
      " [22 38 29  3]\n",
      " [34  7 17 20]\n",
      " [37 33 47 14]]\n",
      "\n",
      "Транспонированная матрица:\n",
      "[[ 1 22 34 37]\n",
      " [15 38  7 33]\n",
      " [45 29 17 47]\n",
      " [13  3 20 14]]\n",
      "\n",
      "След матрицы: 70\n"
     ]
    }
   ],
   "source": [
    "import numpy as np\n",
    "\n",
    "# Создаем матрицу 4x4 со случайными числами от 1 до 50\n",
    "matrix = np.random.randint(1, 51, size=(4, 4))\n",
    "\n",
    "# Вычисляем транспонированную матрицу и след\n",
    "transposed = matrix.T\n",
    "trace = np.trace(matrix)\n",
    "\n",
    "print(\"Исходная матрица:\")\n",
    "print(matrix)\n",
    "print(\"\\nТранспонированная матрица:\")\n",
    "print(transposed)\n",
    "print(\"\\nСлед матрицы:\", trace)"
   ]
  },
  {
   "cell_type": "code",
   "execution_count": 20,
   "id": "25c4e25d-4575-418e-8a6d-31c94516d1cb",
   "metadata": {},
   "outputs": [
    {
     "name": "stdout",
     "output_type": "stream",
     "text": [
      "Решение системы:\n",
      "x = 1.64\n",
      "y = 0.58\n",
      "z = 0.01\n"
     ]
    }
   ],
   "source": [
    "import numpy as np\n",
    "\n",
    "# Создаем матрицу коэффициентов A\n",
    "A = np.array([\n",
    "    [2, 3, -1],\n",
    "    [4, -1, 2],\n",
    "    [-3, 5, 4]\n",
    "])\n",
    "\n",
    "# Создаем вектор правой части B\n",
    "B = np.array([5, 6, -2])\n",
    "\n",
    "# Решаем систему уравнений\n",
    "solution = np.linalg.solve(A, B)\n",
    "\n",
    "# Выводим результат\n",
    "print(\"Решение системы:\")\n",
    "print(f\"x = {solution[0]:.2f}\")\n",
    "print(f\"y = {solution[1]:.2f}\")\n",
    "print(f\"z = {solution[2]:.2f}\")"
   ]
  },
  {
   "cell_type": "code",
   "execution_count": null,
   "id": "a0ca7313-51d4-4a7e-b5a6-d4ddeb5b1ce4",
   "metadata": {},
   "outputs": [],
   "source": []
  }
 ],
 "metadata": {
  "kernelspec": {
   "display_name": "Python [conda env:base] *",
   "language": "python",
   "name": "conda-base-py"
  },
  "language_info": {
   "codemirror_mode": {
    "name": "ipython",
    "version": 3
   },
   "file_extension": ".py",
   "mimetype": "text/x-python",
   "name": "python",
   "nbconvert_exporter": "python",
   "pygments_lexer": "ipython3",
   "version": "3.12.7"
  }
 },
 "nbformat": 4,
 "nbformat_minor": 5
}

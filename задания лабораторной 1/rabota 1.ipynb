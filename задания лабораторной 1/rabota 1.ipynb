{
 "cells": [
  {
   "cell_type": "markdown",
   "metadata": {},
   "source": [
    "Практическое Задание №1"
   ]
  },
  {
   "cell_type": "markdown",
   "metadata": {},
   "source": [
    "**Жирный текст**, *курсив*\n",
    "\n",
    "Список:\n",
    "* Элемент 1\n",
    "* Элемент 2\n",
    "\n",
    "\n",
    "Нумерованный список:\n",
    "1. Элемент 1\n",
    "2. Элемент 2"
   ]
  },
  {
   "cell_type": "code",
   "execution_count": null,
   "metadata": {},
   "outputs": [],
   "source": []
  },
  {
   "cell_type": "markdown",
   "metadata": {},
   "source": [
    "![Описание](https://i.pinimg.com/236x/0e/bd/26/0ebd262c4b7f69f7ec915dbd8509328f.jpg)"
   ]
  },
  {
   "cell_type": "code",
   "execution_count": 15,
   "metadata": {},
   "outputs": [
    {
     "name": "stdout",
     "output_type": "stream",
     "text": [
      "Введите ваше имя\n",
      "Сергей\n",
      "Привет,Сергей! Добро пожаловать в Jupiterlab\n"
     ]
    }
   ],
   "source": [
    "print(\"Введите ваше имя\")\n",
    "name=input()\n",
    "print('Привет,' + name + '! Добро пожаловать в Jupiterlab')"
   ]
  },
  {
   "cell_type": "code",
   "execution_count": 20,
   "metadata": {},
   "outputs": [
    {
     "name": "stdout",
     "output_type": "stream",
     "text": [
      "Содержимое файла \n",
      " Первая строка\n",
      "Вторая строка\n",
      "\n",
      "Файл существует True\n",
      "Файл удалён\n"
     ]
    }
   ],
   "source": [
    "import os \n",
    "with open(\"example.txt\", \"w\") as f:\n",
    "        f.write(\"Первая строка\\n\")\n",
    "        f.write(\"Вторая строка\\n\")\n",
    "with open(\"example.txt\", \"r\") as f:\n",
    "    content = f.read()\n",
    "    print(\"Содержимое файла \\n\", content)\n",
    "print(\"Файл существует\", os.path.exists(\"example.txt\"))\n",
    "os.remove(\"example.txt\")\n",
    "print(\"Файл удалён\")\n"
   ]
  },
  {
   "cell_type": "code",
   "execution_count": 21,
   "metadata": {},
   "outputs": [
    {
     "name": "stdout",
     "output_type": "stream",
     "text": [
      "Writing test.script.py\n"
     ]
    }
   ],
   "source": [
    "%%writefile test.script.py\n",
    "for i in range(3):\n",
    "    print(f\"Итерация {i}\")\n",
    "!python test_script.py\n",
    "\n",
    "%time sum(range(1000000))"
   ]
  },
  {
   "cell_type": "code",
   "execution_count": null,
   "metadata": {},
   "outputs": [],
   "source": []
  }
 ],
 "metadata": {
  "kernelspec": {
   "display_name": "Python 3",
   "language": "python",
   "name": "python3"
  },
  "language_info": {
   "codemirror_mode": {
    "name": "ipython",
    "version": 3
   },
   "file_extension": ".py",
   "mimetype": "text/x-python",
   "name": "python",
   "nbconvert_exporter": "python",
   "pygments_lexer": "ipython3",
   "version": "3.8.5"
  }
 },
 "nbformat": 4,
 "nbformat_minor": 4
}

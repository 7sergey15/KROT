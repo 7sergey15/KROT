{
 "cells": [
  {
   "cell_type": "code",
   "execution_count": 1,
   "id": "7d82a870-afc6-4868-98b8-c3ed545a8c61",
   "metadata": {},
   "outputs": [
    {
     "name": "stdout",
     "output_type": "stream",
     "text": [
      "Series:\n",
      "a     5\n",
      "b    15\n",
      "c    25\n",
      "d    35\n",
      "e    45\n",
      "dtype: int64\n",
      "\n",
      "Тип данных Series: <class 'pandas.core.series.Series'>\n",
      "Тип данных элементов: int64\n"
     ]
    }
   ],
   "source": [
    "import pandas as pd\n",
    "\n",
    "# Создаем Series\n",
    "data = [5, 15, 25, 35, 45]\n",
    "index = ['a', 'b', 'c', 'd', 'e']\n",
    "s = pd.Series(data, index=index)\n",
    "\n",
    "# Выводим Series\n",
    "print(\"Series:\")\n",
    "print(s)\n",
    "\n",
    "# Проверяем тип данных\n",
    "print(\"\\nТип данных Series:\", type(s))\n",
    "print(\"Тип данных элементов:\", s.dtype)"
   ]
  },
  {
   "cell_type": "code",
   "execution_count": 3,
   "id": "31a780d1-a4c3-4f20-a7e9-b9927e6a0518",
   "metadata": {},
   "outputs": [
    {
     "name": "stdout",
     "output_type": "stream",
     "text": [
      "Исходный Series:\n",
      "A    12\n",
      "B    24\n",
      "C    36\n",
      "D    48\n",
      "E    60\n",
      "dtype: int64\n",
      "\n",
      "Через .loc['C']: 36\n",
      "Через .iloc[2]: 36\n"
     ]
    }
   ],
   "source": [
    "import pandas as pd\n",
    "\n",
    "# Создаем Series\n",
    "s = pd.Series(\n",
    "    data=[12, 24, 36, 48, 60],\n",
    "    index=['A', 'B', 'C', 'D', 'E']\n",
    ")\n",
    "\n",
    "# Получаем элементы\n",
    "element_loc = s.loc['C']  # Доступ по метке индекса\n",
    "element_iloc = s.iloc[2]  # Доступ по позиции (отсчет с 0)\n",
    "\n",
    "print(\"Исходный Series:\")\n",
    "print(s)\n",
    "print(\"\\nЧерез .loc['C']:\", element_loc)\n",
    "print(\"Через .iloc[2]:\", element_iloc)"
   ]
  },
  {
   "cell_type": "code",
   "execution_count": 5,
   "id": "1738c49f-b734-4628-ac27-3307202ca9a6",
   "metadata": {},
   "outputs": [
    {
     "name": "stdout",
     "output_type": "stream",
     "text": [
      "Исходный Series:\n",
      "0     4\n",
      "1     9\n",
      "2    16\n",
      "3    25\n",
      "4    36\n",
      "5    49\n",
      "6    64\n",
      "dtype: int32\n",
      "\n",
      "Элементы больше 20:\n",
      "3    25\n",
      "4    36\n",
      "5    49\n",
      "6    64\n",
      "dtype: int32\n"
     ]
    }
   ],
   "source": [
    "import numpy as np\n",
    "import pandas as pd\n",
    "\n",
    "# Создаем массив NumPy\n",
    "arr = np.array([4, 9, 16, 25, 36, 49, 64])\n",
    "\n",
    "# Преобразуем в Pandas Series\n",
    "s = pd.Series(arr)\n",
    "\n",
    "# Фильтруем элементы больше 20\n",
    "filtered = s[s > 20]\n",
    "\n",
    "print(\"Исходный Series:\")\n",
    "print(s)\n",
    "print(\"\\nЭлементы больше 20:\")\n",
    "print(filtered)"
   ]
  },
  {
   "cell_type": "code",
   "execution_count": 7,
   "id": "7aa525b2-84a3-4bd3-a9bb-bd0572a6d5ab",
   "metadata": {},
   "outputs": [
    {
     "name": "stdout",
     "output_type": "stream",
     "text": [
      "Первые 7 элементов:\n",
      "0    79\n",
      "1    24\n",
      "2    68\n",
      "3    11\n",
      "4    36\n",
      "5    23\n",
      "6    63\n",
      "dtype: int32\n",
      "\n",
      "Последние 5 элементов:\n",
      "45    24\n",
      "46    80\n",
      "47     1\n",
      "48    71\n",
      "49     8\n",
      "dtype: int32\n"
     ]
    }
   ],
   "source": [
    "import numpy as np\n",
    "import pandas as pd\n",
    "\n",
    "# Создаем Series с 50 случайными числами от 1 до 100\n",
    "s = pd.Series(np.random.randint(1, 101, size=50))\n",
    "\n",
    "# Выводим результаты\n",
    "print(\"Первые 7 элементов:\")\n",
    "print(s.head(7))\n",
    "\n",
    "print(\"\\nПоследние 5 элементов:\")\n",
    "print(s.tail(5))"
   ]
  },
  {
   "cell_type": "code",
   "execution_count": 9,
   "id": "fe25fc3f-48e7-4d59-aa61-60d53a6a8718",
   "metadata": {},
   "outputs": [
    {
     "name": "stdout",
     "output_type": "stream",
     "text": [
      "Исходный тип данных:\n",
      "object\n",
      "\n",
      "Тип после преобразования:\n",
      "category\n"
     ]
    }
   ],
   "source": [
    "import pandas as pd\n",
    "\n",
    "# Создаем Series из списка строк\n",
    "animals = pd.Series(['cat', 'dog', 'rabbit', 'parrot', 'fish'])\n",
    "\n",
    "# Проверяем исходный тип данных\n",
    "print(\"Исходный тип данных:\")\n",
    "print(animals.dtype)  # Выведет: object\n",
    "\n",
    "# Преобразуем в категориальный тип\n",
    "animals_cat = animals.astype('category')\n",
    "\n",
    "# Проверяем новый тип данных\n",
    "print(\"\\nТип после преобразования:\")\n",
    "print(animals_cat.dtype)  # Выведет: category"
   ]
  },
  {
   "cell_type": "code",
   "execution_count": 11,
   "id": "12095938-d042-4268-919e-bf0757c85464",
   "metadata": {},
   "outputs": [
    {
     "name": "stdout",
     "output_type": "stream",
     "text": [
      "Есть ли пропущенные значения? True\n",
      "\n",
      "Индексы пропущенных значений: [1, 3]\n"
     ]
    }
   ],
   "source": [
    "import pandas as pd\n",
    "import numpy as np\n",
    "\n",
    "# Создаём Series с пропущенными значениями\n",
    "s = pd.Series([1.2, np.nan, 3.4, np.nan, 5.6, 6.8])\n",
    "\n",
    "# Проверяем наличие пропущенных значений\n",
    "has_nan = s.isnull().any()\n",
    "print(\"Есть ли пропущенные значения?\", has_nan)\n",
    "\n",
    "# Находим индексы пропущенных значений\n",
    "nan_indices = s.index[s.isnull()]\n",
    "print(\"\\nИндексы пропущенных значений:\", list(nan_indices))"
   ]
  },
  {
   "cell_type": "code",
   "execution_count": 13,
   "id": "261a2fb7-b355-4ee4-b535-ecf55ab0b5ff",
   "metadata": {},
   "outputs": [
    {
     "name": "stdout",
     "output_type": "stream",
     "text": [
      "Исходный Series:\n",
      "0    1.2\n",
      "1    NaN\n",
      "2    3.4\n",
      "3    NaN\n",
      "4    5.6\n",
      "5    6.8\n",
      "dtype: float64\n",
      "\n",
      "Series после замены NaN:\n",
      "0    1.20\n",
      "1    4.25\n",
      "2    3.40\n",
      "3    4.25\n",
      "4    5.60\n",
      "5    6.80\n",
      "dtype: float64\n"
     ]
    }
   ],
   "source": [
    "import pandas as pd\n",
    "import numpy as np\n",
    "\n",
    "# Создаём исходный Series\n",
    "s = pd.Series([1.2, np.nan, 3.4, np.nan, 5.6, 6.8])\n",
    "\n",
    "# Вычисляем среднее значение непустых элементов\n",
    "mean_value = s.mean()\n",
    "\n",
    "# Заменяем NaN на среднее значение\n",
    "s_filled = s.fillna(mean_value)\n",
    "\n",
    "print(\"Исходный Series:\")\n",
    "print(s)\n",
    "print(\"\\nSeries после замены NaN:\")\n",
    "print(s_filled)"
   ]
  },
  {
   "cell_type": "code",
   "execution_count": 15,
   "id": "93da9bea-c748-4ae7-b8cb-fa3776399f0e",
   "metadata": {},
   "outputs": [
    {
     "name": "stdout",
     "output_type": "stream",
     "text": [
      "Результат сложения без обработки:\n",
      "a     NaN\n",
      "b    25.0\n",
      "c    45.0\n",
      "d    65.0\n",
      "e     NaN\n",
      "dtype: float64\n",
      "\n",
      "Результат после замены NaN:\n",
      "a     0.0\n",
      "b    25.0\n",
      "c    45.0\n",
      "d    65.0\n",
      "e     0.0\n",
      "dtype: float64\n"
     ]
    }
   ],
   "source": [
    "import pandas as pd\n",
    "\n",
    "# Создаем Series\n",
    "s1 = pd.Series([10, 20, 30, 40], index=['a', 'b', 'c', 'd'])\n",
    "s2 = pd.Series([5, 15, 25, 35], index=['b', 'c', 'd', 'e'])\n",
    "\n",
    "# Выполняем сложение\n",
    "result = s1 + s2\n",
    "\n",
    "print(\"Результат сложения без обработки:\")\n",
    "print(result)\n",
    "\n",
    "# Заменяем NaN на 0\n",
    "result_filled = result.fillna(0)\n",
    "\n",
    "print(\"\\nРезультат после замены NaN:\")\n",
    "print(result_filled)"
   ]
  },
  {
   "cell_type": "code",
   "execution_count": 17,
   "id": "854be185-0902-4624-aa07-d0b8c51a83a6",
   "metadata": {},
   "outputs": [
    {
     "name": "stdout",
     "output_type": "stream",
     "text": [
      "Исходный Series:\n",
      "0     2\n",
      "1     4\n",
      "2     6\n",
      "3     8\n",
      "4    10\n",
      "dtype: int64\n",
      "\n",
      "Series после вычисления квадратных корней:\n",
      "0    1.414214\n",
      "1    2.000000\n",
      "2    2.449490\n",
      "3    2.828427\n",
      "4    3.162278\n",
      "dtype: float64\n"
     ]
    }
   ],
   "source": [
    "import pandas as pd\n",
    "import numpy as np\n",
    "\n",
    "# Создаем Series\n",
    "s = pd.Series([2, 4, 6, 8, 10])\n",
    "\n",
    "# Применяем функцию квадратного корня к каждому элементу\n",
    "s_sqrt = s.apply(np.sqrt)\n",
    "\n",
    "print(\"Исходный Series:\")\n",
    "print(s)\n",
    "print(\"\\nSeries после вычисления квадратных корней:\")\n",
    "print(s_sqrt)"
   ]
  },
  {
   "cell_type": "code",
   "execution_count": 19,
   "id": "d76d722d-ecec-44e3-a910-de372018847f",
   "metadata": {},
   "outputs": [
    {
     "name": "stdout",
     "output_type": "stream",
     "text": [
      "Созданный Series:\n",
      "0      54\n",
      "1      60\n",
      "2      79\n",
      "3      82\n",
      "4      79\n",
      "5      87\n",
      "6     126\n",
      "7      95\n",
      "8      79\n",
      "9      61\n",
      "10    143\n",
      "11     85\n",
      "12    104\n",
      "13    118\n",
      "14    116\n",
      "15    111\n",
      "16     69\n",
      "17    113\n",
      "18     75\n",
      "19    150\n",
      "dtype: int32\n",
      "\n",
      "Сумма: 1886\n",
      "Среднее значение: 94.3\n",
      "Минимальное значение: 54\n",
      "Максимальное значение: 150\n",
      "Стандартное отклонение: 27.290059883060948\n"
     ]
    }
   ],
   "source": [
    "import pandas as pd\n",
    "import numpy as np\n",
    "\n",
    "# Создание Series из 20 случайных чисел от 50 до 150\n",
    "random_numbers = np.random.randint(50, 151, 20)\n",
    "series = pd.Series(random_numbers)\n",
    "\n",
    "# Вычисление статистик\n",
    "total_sum = series.sum()\n",
    "average = series.mean()\n",
    "minimum = series.min()\n",
    "maximum = series.max()\n",
    "std_dev = series.std()\n",
    "\n",
    "# Вывод результатов\n",
    "print(\"Созданный Series:\")\n",
    "print(series)\n",
    "print(\"\\nСумма:\", total_sum)\n",
    "print(\"Среднее значение:\", average)\n",
    "print(\"Минимальное значение:\", minimum)\n",
    "print(\"Максимальное значение:\", maximum)\n",
    "print(\"Стандартное отклонение:\", std_dev)"
   ]
  },
  {
   "cell_type": "code",
   "execution_count": 21,
   "id": "2c2fc170-8367-481b-9975-05d0d64194ac",
   "metadata": {},
   "outputs": [
    {
     "name": "stdout",
     "output_type": "stream",
     "text": [
      "2024-03-05    81\n",
      "2024-03-06    81\n",
      "2024-03-07    74\n",
      "2024-03-08    14\n",
      "Freq: D, dtype: int32\n"
     ]
    }
   ],
   "source": [
    "import pandas as pd\n",
    "import numpy as np\n",
    "\n",
    "# Создание диапазона дат\n",
    "dates = pd.date_range(start='2024-03-01', periods=10, freq='D')\n",
    "\n",
    "# Генерация случайных чисел от 10 до 100\n",
    "values = np.random.randint(10, 101, size=10)\n",
    "\n",
    "# Создание Series\n",
    "series = pd.Series(values, index=dates)\n",
    "\n",
    "# Выбор данных за 5–8 марта\n",
    "selected_data = series.loc['2024-03-05':'2024-03-08']\n",
    "\n",
    "print(selected_data)"
   ]
  },
  {
   "cell_type": "code",
   "execution_count": 23,
   "id": "f126e87a-bc98-4970-b3cc-882dda120cc6",
   "metadata": {},
   "outputs": [
    {
     "name": "stdout",
     "output_type": "stream",
     "text": [
      "Индексы уникальные? False\n",
      "\n",
      "Результат группировки:\n",
      "A    40\n",
      "B    80\n",
      "C    40\n",
      "D    50\n",
      "dtype: int64\n"
     ]
    }
   ],
   "source": [
    "import pandas as pd\n",
    "\n",
    "# Создание Series\n",
    "data = pd.Series(\n",
    "    data=[10, 20, 30, 40, 50, 60],\n",
    "    index=['A', 'B', 'A', 'C', 'D', 'B']\n",
    ")\n",
    "\n",
    "# Проверка уникальности индексов\n",
    "print(\"Индексы уникальные?\", data.index.is_unique)  # False\n",
    "\n",
    "# Группировка и суммирование повторяющихся значений\n",
    "grouped_data = data.groupby(level=0).sum()\n",
    "\n",
    "print(\"\\nРезультат группировки:\")\n",
    "print(grouped_data)"
   ]
  },
  {
   "cell_type": "code",
   "execution_count": 25,
   "id": "99386251-f527-45bc-bc58-a87467124cd8",
   "metadata": {},
   "outputs": [
    {
     "name": "stdout",
     "output_type": "stream",
     "text": [
      "Тип индекса: <class 'pandas.core.indexes.datetimes.DatetimeIndex'>\n",
      "\n",
      "Обновленный Series:\n",
      "2024-03-10    100\n",
      "2024-03-11    200\n",
      "2024-03-12    300\n",
      "dtype: int64\n"
     ]
    }
   ],
   "source": [
    "import pandas as pd\n",
    "\n",
    "# Создание Series со строковыми индексами\n",
    "data = pd.Series(\n",
    "    data=[100, 200, 300],\n",
    "    index=['2024-03-10', '2024-03-11', '2024-03-12']\n",
    ")\n",
    "\n",
    "# Преобразование индексов в DatetimeIndex\n",
    "data.index = pd.to_datetime(data.index)\n",
    "\n",
    "# Вывод типа данных индекса\n",
    "print(\"Тип индекса:\", type(data.index))\n",
    "print(\"\\nОбновленный Series:\")\n",
    "print(data)"
   ]
  },
  {
   "cell_type": "code",
   "execution_count": 29,
   "id": "34a2a127-d0b8-471e-bd90-09bb724aa9bf",
   "metadata": {},
   "outputs": [
    {
     "name": "stdout",
     "output_type": "stream",
     "text": [
      "Тип индекса: <class 'pandas.core.indexes.datetimes.DatetimeIndex'>\n",
      "\n",
      "Series:\n",
      "Дата\n",
      "2024-03-01    100\n",
      "2024-03-02    110\n",
      "2024-03-03    105\n",
      "2024-03-04    120\n",
      "2024-03-05    115\n",
      "Name: Цена, dtype: int64\n"
     ]
    }
   ],
   "source": [
    "import pandas as pd\n",
    "\n",
    "# Данные для CSV\n",
    "data = {\n",
    "    'Дата': ['2024-03-01', '2024-03-02', '2024-03-03', '2024-03-04', '2024-03-05'],\n",
    "    'Цена': [100, 110, 105, 120, 115]\n",
    "}\n",
    "\n",
    "# Запись в CSV\n",
    "df = pd.DataFrame(data)\n",
    "df.to_csv('data.csv', index=False, sep=',')\n",
    "# Чтение CSV с установкой индекса\n",
    "df = pd.read_csv('data.csv', parse_dates=['Дата'], index_col='Дата')\n",
    "\n",
    "# Преобразование в Series\n",
    "price_series = df['Цена']\n",
    "\n",
    "# Проверка результата\n",
    "print(\"Тип индекса:\", type(price_series.index))\n",
    "print(\"\\nSeries:\")\n",
    "print(price_series)"
   ]
  },
  {
   "cell_type": "code",
   "execution_count": 31,
   "id": "0d760cf1-d779-4363-94a6-8e5690326496",
   "metadata": {
    "jupyter": {
     "source_hidden": true
    }
   },
   "outputs": [
    {
     "data": {
      "image/png": "[encoded data removed]",
      "text/plain": [
       "<Figure size 1200x600 with 1 Axes>"
      ]
     },
     "metadata": {},
     "output_type": "display_data"
    }
   ],
   "source": [
    "import pandas as pd\n",
    "import numpy as np\n",
    "import matplotlib.pyplot as plt\n",
    "\n",
    "# Создание диапазона дат\n",
    "dates = pd.date_range(start='2024-03-01', end='2024-03-30', freq='D')\n",
    "\n",
    "# Генерация случайных чисел от 50 до 150\n",
    "values = np.random.randint(50, 151, size=len(dates))\n",
    "\n",
    "# Создание Series\n",
    "series = pd.Series(values, index=dates)\n",
    "\n",
    "# Настройка стиля графика\n",
    "plt.figure(figsize=(12, 6))\n",
    "plt.plot(series, marker='o', linestyle='-', color='blue')\n",
    "\n",
    "# Добавление заголовка и подписей\n",
    "plt.title('Динамика значений с 1 по 30 марта 2024', fontsize=14)\n",
    "plt.xlabel('Дата', fontsize=12)\n",
    "plt.ylabel('Значение', fontsize=12)\n",
    "\n",
    "# Настройка сетки и поворот дат для удобства\n",
    "plt.grid(True, linestyle='--', alpha=0.7)\n",
    "plt.xticks(rotation=45)\n",
    "\n",
    "# Автоматическое выравнивание макета\n",
    "plt.tight_layout()\n",
    "\n",
    "# Отображение графика\n",
    "plt.show()"
   ]
  },
  {
   "cell_type": "code",
   "execution_count": null,
   "id": "b56bd5b3-ec47-488e-b44b-4d3a2c07a819",
   "metadata": {},
   "outputs": [],
   "source": []
  }
 ],
 "metadata": {
  "kernelspec": {
   "display_name": "Python [conda env:base] *",
   "language": "python",
   "name": "conda-base-py"
  },
  "language_info": {
   "codemirror_mode": {
    "name": "ipython",
    "version": 3
   },
   "file_extension": ".py",
   "mimetype": "text/x-python",
   "name": "python",
   "nbconvert_exporter": "python",
   "pygments_lexer": "ipython3",
   "version": "3.12.7"
  }
 },
 "nbformat": 4,
 "nbformat_minor": 5
}

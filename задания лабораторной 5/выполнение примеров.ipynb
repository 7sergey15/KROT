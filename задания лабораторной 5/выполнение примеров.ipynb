{
 "cells": [
  {
   "cell_type": "code",
   "execution_count": 8,
   "id": "f26e0497-743d-4c9e-9d15-aceb3895ec73",
   "metadata": {
    "tags": []
   },
   "outputs": [
    {
     "name": "stdout",
     "output_type": "stream",
     "text": [
      "a    10\n",
      "b    20\n",
      "c    30\n",
      "d    40\n",
      "dtype: int64\n"
     ]
    }
   ],
   "source": [
    "import pandas as pd\n",
    "s = pd.Series([10, 20, 30, 40], index=[\"a\", \"b\", \"c\", \"d\"])\n",
    "print(s)"
   ]
  },
  {
   "cell_type": "code",
   "execution_count": 9,
   "id": "b491359b-7ea4-4b83-9ed6-fe2ecf407202",
   "metadata": {
    "tags": []
   },
   "outputs": [
    {
     "name": "stdout",
     "output_type": "stream",
     "text": [
      "       Возраст   Город\n",
      "Анна        25  Москва\n",
      "Иван        30     СПб\n",
      "Ольга       22  Казань\n"
     ]
    }
   ],
   "source": [
    "data = {\n",
    "\"Возраст\": [25, 30, 22],\n",
    "\"Город\": [\"Москва\", \"СПб\", \"Казань\"]\n",
    "}\n",
    "df = pd.DataFrame(data, index=[\"Анна\", \"Иван\", \"Ольга\"])\n",
    "print(df)"
   ]
  },
  {
   "cell_type": "code",
   "execution_count": 10,
   "id": "07c228f9-58a5-4bd6-af9b-9f1cb403992d",
   "metadata": {
    "tags": []
   },
   "outputs": [
    {
     "name": "stdout",
     "output_type": "stream",
     "text": [
      "Анна     25\n",
      "Иван     30\n",
      "Ольга    22\n",
      "Name: Возраст, dtype: int64\n"
     ]
    }
   ],
   "source": [
    "print(df[\"Возраст\"])"
   ]
  },
  {
   "cell_type": "code",
   "execution_count": 11,
   "id": "f6226b85-1a0a-4b5c-9354-6505b556ffd7",
   "metadata": {
    "tags": []
   },
   "outputs": [
    {
     "name": "stdout",
     "output_type": "stream",
     "text": [
      "   Значение\n",
      "a        10\n",
      "b        20\n",
      "c        30\n"
     ]
    }
   ],
   "source": [
    "s = pd.Series([10, 20, 30], index=[\"a\", \"b\", \"c\"])\n",
    "df = s.to_frame(name=\"Значение\")\n",
    "print(df)"
   ]
  },
  {
   "cell_type": "code",
   "execution_count": 12,
   "id": "eb42fa37-8a29-4c27-b8b7-28be25aab47d",
   "metadata": {
    "tags": []
   },
   "outputs": [
    {
     "name": "stdout",
     "output_type": "stream",
     "text": [
      "a    10\n",
      "b    20\n",
      "c    30\n",
      "Name: Значение, dtype: int64\n"
     ]
    }
   ],
   "source": [
    "s = df[\"Значение\"]\n",
    "print(s)"
   ]
  },
  {
   "cell_type": "code",
   "execution_count": 13,
   "id": "0eb7e878-6b27-491a-87b9-96787ccd9d26",
   "metadata": {
    "tags": []
   },
   "outputs": [
    {
     "name": "stdout",
     "output_type": "stream",
     "text": [
      "     Имя  Возраст   Город\n",
      "0   Анна       25  Москва\n",
      "1   Иван       30     СПб\n",
      "2  Ольга       22  Казань\n"
     ]
    }
   ],
   "source": [
    "import pandas as pd\n",
    "data = {\n",
    "\"Имя\": [\"Анна\", \"Иван\", \"Ольга\"],\n",
    "\"Возраст\": [25, 30, 22],\n",
    "\"Город\": [\"Москва\", \"СПб\", \"Казань\"]\n",
    "}\n",
    "df = pd.DataFrame(data)\n",
    "print(df)"
   ]
  },
  {
   "cell_type": "code",
   "execution_count": 14,
   "id": "410aa74c-551b-455f-9be7-8edf48be227e",
   "metadata": {
    "tags": []
   },
   "outputs": [
    {
     "name": "stdout",
     "output_type": "stream",
     "text": [
      "   Возраст   Город\n",
      "a       25  Москва\n",
      "b       30     СПб\n",
      "c       22  Казань\n"
     ]
    }
   ],
   "source": [
    "ages = pd.Series([25, 30, 22], index=[\"a\", \"b\", \"c\"])\n",
    "cities = pd.Series([\"Москва\", \"СПб\", \"Казань\"], index=[\"a\", \"b\", \"c\"])\n",
    "df = pd.DataFrame({\"Возраст\": ages, \"Город\": cities})\n",
    "print(df)"
   ]
  },
  {
   "cell_type": "code",
   "execution_count": 15,
   "id": "53f5b20f-4201-44b2-98d4-6c6a6397406f",
   "metadata": {
    "tags": []
   },
   "outputs": [
    {
     "name": "stdout",
     "output_type": "stream",
     "text": [
      "     Имя  Возраст   Город\n",
      "0   Анна       25  Москва\n",
      "1   Иван       30     СПб\n",
      "2  Ольга       22  Казань\n"
     ]
    }
   ],
   "source": [
    "data = [\n",
    "[\"Анна\", 25, \"Москва\"],\n",
    "[\"Иван\", 30, \"СПб\"],\n",
    "[\"Ольга\", 22, \"Казань\"]\n",
    "]\n",
    "df = pd.DataFrame(data, columns=[\"Имя\", \"Возраст\", \"Город\"])\n",
    "print(df)"
   ]
  },
  {
   "cell_type": "code",
   "execution_count": 16,
   "id": "349a0165-aa47-4516-ac35-255e5d954689",
   "metadata": {
    "tags": []
   },
   "outputs": [
    {
     "name": "stdout",
     "output_type": "stream",
     "text": [
      "     Имя  Возраст   Город\n",
      "0   Анна       25  Москва\n",
      "1   Иван       30     NaN\n",
      "2  Ольга       22  Казань\n"
     ]
    }
   ],
   "source": [
    "data = [\n",
    "{\"Имя\": \"Анна\", \"Возраст\": 25, \"Город\": \"Москва\"},\n",
    "{\"Имя\": \"Иван\", \"Возраст\": 30}, # \"Город\" пропущен\n",
    "{\"Имя\": \"Ольга\", \"Возраст\": 22, \"Город\": \"Казань\"}\n",
    "]\n",
    "df = pd.DataFrame(data)\n",
    "print(df)"
   ]
  },
  {
   "cell_type": "code",
   "execution_count": 17,
   "id": "3f9f79f4-77de-4762-9521-51545b6a6d21",
   "metadata": {
    "tags": []
   },
   "outputs": [
    {
     "name": "stdout",
     "output_type": "stream",
     "text": [
      "     Имя Возраст   Город\n",
      "0   Анна      25  Москва\n",
      "1   Иван      30     СПб\n",
      "2  Ольга      22  Казань\n"
     ]
    }
   ],
   "source": [
    "import numpy as np\n",
    "data = np.array([\n",
    "[\"Анна\", 25, \"Москва\"],\n",
    "[\"Иван\", 30, \"СПб\"],\n",
    "[\"Ольга\", 22, \"Казань\"]\n",
    "])\n",
    "df = pd.DataFrame(data, columns=[\"Имя\", \"Возраст\", \"Город\"])\n",
    "print(df)"
   ]
  },
  {
   "cell_type": "code",
   "execution_count": 18,
   "id": "913e3451-85e1-4dd9-86d2-60b80c8e6da3",
   "metadata": {
    "tags": []
   },
   "outputs": [
    {
     "name": "stdout",
     "output_type": "stream",
     "text": [
      "   Возраст   Вес\n",
      "0     25.0  65.5\n",
      "1     30.0  78.2\n",
      "2     22.0  54.3\n"
     ]
    }
   ],
   "source": [
    "numeric_data = np.array([\n",
    "[25, 65.5],\n",
    "[30, 78.2],\n",
    "[22, 54.3]\n",
    "])\n",
    "df = pd.DataFrame(numeric_data, columns=[\"Возраст\", \"Вес\"])\n",
    "print(df)"
   ]
  },
  {
   "cell_type": "code",
   "execution_count": 19,
   "id": "661d3503-24ee-4355-95af-28f9a3a8104d",
   "metadata": {
    "tags": []
   },
   "outputs": [
    {
     "name": "stdout",
     "output_type": "stream",
     "text": [
      "Empty DataFrame\n",
      "Columns: [Имя, Возраст, Город]\n",
      "Index: []\n"
     ]
    }
   ],
   "source": [
    "df = pd.DataFrame(columns=[\"Имя\", \"Возраст\", \"Город\"])\n",
    "print(df)"
   ]
  },
  {
   "cell_type": "code",
   "execution_count": 20,
   "id": "757b3e45-316a-450b-b42c-a0f1491d534b",
   "metadata": {
    "tags": []
   },
   "outputs": [
    {
     "name": "stdout",
     "output_type": "stream",
     "text": [
      "    Имя  Возраст   Город\n",
      "0  Анна       25  Москва\n",
      "1  Иван       30     СПб\n"
     ]
    }
   ],
   "source": [
    "df.loc[0] = [\"Анна\", 25, \"Москва\"]\n",
    "df.loc[1] = [\"Иван\", 30, \"СПб\"]\n",
    "print(df)"
   ]
  },
  {
   "cell_type": "code",
   "execution_count": 21,
   "id": "0af25aa2-53ac-4c59-9d47-0a8e6854d2be",
   "metadata": {
    "tags": []
   },
   "outputs": [],
   "source": [
    "import pandas as pd"
   ]
  },
  {
   "cell_type": "code",
   "execution_count": 22,
   "id": "373a314a-cf17-431a-a0c5-492e4330f5e6",
   "metadata": {
    "tags": []
   },
   "outputs": [
    {
     "name": "stdout",
     "output_type": "stream",
     "text": [
      "   1\n",
      "0  2\n",
      "1  3\n",
      "2  4\n",
      "3  5\n",
      "4  6\n"
     ]
    }
   ],
   "source": [
    "df = pd.read_csv(\"data.csv\")\n",
    "print(df.head()) # Выведем первые 5 строк"
   ]
  },
  {
   "cell_type": "code",
   "execution_count": 25,
   "id": "66724280-f4e7-49f3-a1b3-1f0cdb5c0c61",
   "metadata": {
    "tags": []
   },
   "outputs": [],
   "source": [
    "df = pd.read_csv(\"data.csv\", sep=\";\", index_col=0, na_values=[\"?\",\"N/A\"])"
   ]
  },
  {
   "cell_type": "code",
   "execution_count": 26,
   "id": "2212a311-4fcc-4593-b42d-dab1f7e2c757",
   "metadata": {
    "tags": []
   },
   "outputs": [],
   "source": [
    "df.to_csv(\"output.csv\", index=False)"
   ]
  },
  {
   "cell_type": "code",
   "execution_count": 3,
   "id": "cd6b98f8-da80-42cc-a125-d7b5ea80a0bc",
   "metadata": {
    "tags": []
   },
   "outputs": [
    {
     "name": "stdout",
     "output_type": "stream",
     "text": [
      "         Дата  Цена\n",
      "0  2024-03-01   100\n",
      "1  2024-03-02   110\n",
      "2  2024-03-03   105\n"
     ]
    }
   ],
   "source": [
    "import pandas as pd\n",
    "\n",
    "\n",
    "data = {\n",
    "    \"Дата\": [\"2024-03-01\", \"2024-03-02\", \"2024-03-03\"],\n",
    "    \"Цена\": [100, 110, 105]\n",
    "}\n",
    "df = pd.DataFrame(data)\n",
    "\n",
    "df.to_excel(\"data.xlsx\", sheet_name=\"Лист1\", index=False, engine=\"openpyxl\")\n",
    "\n",
    "df_read = pd.read_excel(\"data.xlsx\", sheet_name=\"Лист1\", engine=\"openpyxl\")\n",
    "\n",
    "print(df_read.head())"
   ]
  },
  {
   "cell_type": "code",
   "execution_count": 5,
   "id": "4d110159-755d-49b3-a218-a48907bc93c4",
   "metadata": {
    "tags": []
   },
   "outputs": [],
   "source": [
    "df.to_excel(\"output.xlsx\", sheet_name=\"Результаты\", index=False)"
   ]
  },
  {
   "cell_type": "code",
   "execution_count": 15,
   "id": "cdfaa678-2a37-4406-8b40-9528e006d58f",
   "metadata": {
    "editable": true,
    "slideshow": {
     "slide_type": ""
    },
    "tags": []
   },
   "outputs": [
    {
     "name": "stdout",
     "output_type": "stream",
     "text": [
      "Данные из таблицы users:\n",
      "   id     name  age              email\n",
      "0   1  Алексей   25   alex@example.com\n",
      "1   2    Мария   30  maria@example.com\n",
      "2   3     Иван   28   ivan@example.com\n",
      "3   4  Алексей   25   alex@example.com\n",
      "4   5    Мария   30  maria@example.com\n",
      "5   6     Иван   28   ivan@example.com\n"
     ]
    }
   ],
   "source": [
    "import sqlite3\n",
    "import pandas as pd\n",
    "\n",
    "# 1. Создание базы данных и таблицы\n",
    "conn = sqlite3.connect(\"database.db\")  # Создаст файл database.db\n",
    "cursor = conn.cursor()\n",
    "\n",
    "# Создание таблицы users\n",
    "cursor.execute('''\n",
    "    CREATE TABLE IF NOT EXISTS users (\n",
    "        id INTEGER PRIMARY KEY,\n",
    "        name TEXT NOT NULL,\n",
    "        age INTEGER,\n",
    "        email TEXT\n",
    "    )\n",
    "''')\n",
    "\n",
    "# 2. Вставка тестовых данных\n",
    "cursor.execute('''\n",
    "    INSERT INTO users (name, age, email)\n",
    "    VALUES \n",
    "        ('Алексей', 25, 'alex@example.com'),\n",
    "        ('Мария', 30, 'maria@example.com'),\n",
    "        ('Иван', 28, 'ivan@example.com')\n",
    "''')\n",
    "\n",
    "conn.commit()  # Сохраняем изменения\n",
    "\n",
    "# 3. Чтение данных через pandas\n",
    "query = \"SELECT * FROM users\"\n",
    "df = pd.read_sql(query, conn)\n",
    "print(\"Данные из таблицы users:\")\n",
    "print(df)\n",
    "\n",
    "# Закрываем соединение\n",
    "conn.close()"
   ]
  },
  {
   "cell_type": "code",
   "execution_count": 33,
   "id": "a5346418-14e9-47c6-971c-6b655f2764ff",
   "metadata": {
    "editable": true,
    "slideshow": {
     "slide_type": ""
    },
    "tags": []
   },
   "outputs": [
    {
     "name": "stdout",
     "output_type": "stream",
     "text": [
      "Данные в таблице users:\n",
      "    name  age\n",
      "0   Анна   25\n",
      "1   Петр   30\n",
      "2  Мария   28\n"
     ]
    }
   ],
   "source": [
    "import sqlite3\n",
    "import pandas as pd\n",
    "\n",
    "conn = sqlite3.connect(\"database.db\")  \n",
    "\n",
    "data = {\n",
    "    \"name\": [\"Анна\", \"Петр\", \"Мария\"],\n",
    "    \"age\": [25, 30, 28]\n",
    "}\n",
    "df = pd.DataFrame(data)\n",
    "\n",
    "df.to_sql(\n",
    "    name=\"users\",         \n",
    "    con=conn,              \n",
    "    if_exists=\"replace\",   \n",
    "    index=False            \n",
    ")\n",
    "\n",
    "\n",
    "conn.close()\n",
    "\n",
    "with sqlite3.connect(\"database.db\") as check_conn:\n",
    "    result = pd.read_sql(\"SELECT * FROM users\", check_conn)\n",
    "    print(\"Данные в таблице users:\")\n",
    "    print(result)"
   ]
  },
  {
   "cell_type": "code",
   "execution_count": 35,
   "id": "2545aa16-3fbb-4900-aeb8-dbd324da5337",
   "metadata": {
    "tags": []
   },
   "outputs": [
    {
     "name": "stdout",
     "output_type": "stream",
     "text": [
      "Данные из JSON-файла:\n",
      "     Имя  Возраст            Город\n",
      "0   Анна       25           Москва\n",
      "1   Петр       30  Санкт-Петербург\n",
      "2  Мария       28           Казань\n"
     ]
    }
   ],
   "source": [
    "import pandas as pd\n",
    "\n",
    "data = {\n",
    "    \"Имя\": [\"Анна\", \"Петр\", \"Мария\"],\n",
    "    \"Возраст\": [25, 30, 28],\n",
    "    \"Город\": [\"Москва\", \"Санкт-Петербург\", \"Казань\"]\n",
    "}\n",
    "\n",
    "df = pd.DataFrame(data)\n",
    "df.to_json(\"data.json\", orient=\"records\", force_ascii=False)  # orient='records' для списка объектов\n",
    "\n",
    "df_read = pd.read_json(\"data.json\")\n",
    "\n",
    "print(\"Данные из JSON-файла:\")\n",
    "print(df_read)"
   ]
  },
  {
   "cell_type": "code",
   "execution_count": 39,
   "id": "ed921d97-9ab3-4071-b635-2cd38a3d3483",
   "metadata": {
    "tags": []
   },
   "outputs": [
    {
     "name": "stdout",
     "output_type": "stream",
     "text": [
      "Данные из Parquet-файла:\n",
      "     Имя  Возраст            Город\n",
      "0   Анна       25           Москва\n",
      "1   Петр       30  Санкт-Петербург\n",
      "2  Мария       28           Казань\n"
     ]
    }
   ],
   "source": [
    "import pandas as pd\n",
    "\n",
    "# 1. Создаем тестовые данные\n",
    "data = {\n",
    "    \"Имя\": [\"Анна\", \"Петр\", \"Мария\"],\n",
    "    \"Возраст\": [25, 30, 28],\n",
    "    \"Город\": [\"Москва\", \"Санкт-Петербург\", \"Казань\"]\n",
    "}\n",
    "\n",
    "df = pd.DataFrame(data)\n",
    "\n",
    "# 2. Сохраняем в Parquet (требуется pyarrow)\n",
    "df.to_parquet(\n",
    "    \"data.parquet\", \n",
    "    engine=\"pyarrow\",  # Используем движок pyarrow\n",
    "    compression=\"snappy\"  # Опциональное сжатие\n",
    ")\n",
    "\n",
    "# 3. Читаем файл\n",
    "df_read = pd.read_parquet(\"data.parquet\")\n",
    "\n",
    "# 4. Выводим результат\n",
    "print(\"Данные из Parquet-файла:\")\n",
    "print(df_read)"
   ]
  },
  {
   "cell_type": "code",
   "execution_count": 33,
   "id": "4bc0b7df-9ffe-4c70-84b4-9b11b9526226",
   "metadata": {
    "tags": []
   },
   "outputs": [],
   "source": [
    "df.to_parquet(\"output.parquet\", engine=\"pyarrow\", index=False)"
   ]
  },
  {
   "cell_type": "code",
   "execution_count": 41,
   "id": "81a35d88-80eb-41ee-9254-c0341d1a75c5",
   "metadata": {
    "tags": []
   },
   "outputs": [
    {
     "name": "stdout",
     "output_type": "stream",
     "text": [
      "     Имя  Возраст   Город\n",
      "0   Анна       25  Москва\n",
      "1   Иван       30     СПб\n",
      "2  Ольга       22  Казань\n"
     ]
    }
   ],
   "source": [
    "import pandas as pd\n",
    "\n",
    "data = {\n",
    "\"Имя\": [\"Анна\", \"Иван\", \"Ольга\", \"Петр\", \"Мария\", \"Сергей\"],\n",
    "\"Возраст\": [25, 30, 22, 40, 35, 28],\n",
    "\"Город\": [\"Москва\", \"СПб\", \"Казань\", \"Новосибирск\",\n",
    "\"Екатеринбург\", \"Сочи\"]\n",
    "}\n",
    "df = pd.DataFrame(data)\n",
    "\n",
    "print(df.head(3))"
   ]
  },
  {
   "cell_type": "code",
   "execution_count": 35,
   "id": "ca950a25-8617-4003-92ff-9a8edab3a54d",
   "metadata": {
    "tags": []
   },
   "outputs": [
    {
     "name": "stdout",
     "output_type": "stream",
     "text": [
      "      Имя  Возраст         Город\n",
      "4   Мария       35  Екатеринбург\n",
      "5  Сергей       28          Сочи\n"
     ]
    }
   ],
   "source": [
    "print(df.tail(2)) # Последние 2 строки"
   ]
  },
  {
   "cell_type": "code",
   "execution_count": 36,
   "id": "296fc8a9-2fd4-4fff-98e4-a60514fce5b2",
   "metadata": {
    "tags": []
   },
   "outputs": [
    {
     "name": "stdout",
     "output_type": "stream",
     "text": [
      "<class 'pandas.core.frame.DataFrame'>\n",
      "RangeIndex: 6 entries, 0 to 5\n",
      "Data columns (total 3 columns):\n",
      " #   Column   Non-Null Count  Dtype \n",
      "---  ------   --------------  ----- \n",
      " 0   Имя      6 non-null      object\n",
      " 1   Возраст  6 non-null      int64 \n",
      " 2   Город    6 non-null      object\n",
      "dtypes: int64(1), object(2)\n",
      "memory usage: 276.0+ bytes\n"
     ]
    }
   ],
   "source": [
    "df.info()"
   ]
  },
  {
   "cell_type": "code",
   "execution_count": 37,
   "id": "17716dc7-58a7-4514-b87e-a00f5c26de17",
   "metadata": {
    "tags": []
   },
   "outputs": [
    {
     "name": "stdout",
     "output_type": "stream",
     "text": [
      "        Возраст\n",
      "count   6.00000\n",
      "mean   30.00000\n",
      "std     6.60303\n",
      "min    22.00000\n",
      "25%    25.75000\n",
      "50%    29.00000\n",
      "75%    33.75000\n",
      "max    40.00000\n"
     ]
    }
   ],
   "source": [
    "print(df.describe())"
   ]
  },
  {
   "cell_type": "code",
   "execution_count": 38,
   "id": "d884b71f-3c93-462e-93ed-bc44a36fd567",
   "metadata": {
    "tags": []
   },
   "outputs": [
    {
     "name": "stdout",
     "output_type": "stream",
     "text": [
      "         Имя   Город\n",
      "count      6       6\n",
      "unique     6       6\n",
      "top     Анна  Москва\n",
      "freq       1       1\n"
     ]
    }
   ],
   "source": [
    "print(df.describe(include=\"object\")) # Анализ строковых данных"
   ]
  },
  {
   "cell_type": "code",
   "execution_count": 39,
   "id": "a9d6a5cc-6b2e-4da5-be22-02b771a761a8",
   "metadata": {
    "tags": []
   },
   "outputs": [
    {
     "name": "stdout",
     "output_type": "stream",
     "text": [
      "     Имя  Возраст        Город\n",
      "a   Анна       25       Москва\n",
      "b   Иван       30          СПб\n",
      "c  Ольга       22       Казань\n",
      "d   Петр       40  Новосибирск\n"
     ]
    }
   ],
   "source": [
    "import pandas as pd\n",
    "data = {\n",
    "\"Имя\": [\"Анна\", \"Иван\", \"Ольга\", \"Петр\"],\n",
    "\"Возраст\": [25, 30, 22, 40],\n",
    "\"Город\": [\"Москва\", \"СПб\", \"Казань\", \"Новосибирск\"]\n",
    "}\n",
    "df = pd.DataFrame(data, index=[\"a\", \"b\", \"c\", \"d\"])\n",
    "print(df)"
   ]
  },
  {
   "cell_type": "code",
   "execution_count": 40,
   "id": "cbba3b42-6740-45a7-ba6c-ae806e4a28bd",
   "metadata": {
    "tags": []
   },
   "outputs": [
    {
     "name": "stdout",
     "output_type": "stream",
     "text": [
      "Имя        Иван\n",
      "Возраст      30\n",
      "Город       СПб\n",
      "Name: b, dtype: object\n"
     ]
    }
   ],
   "source": [
    "print(df.loc[\"b\"])"
   ]
  },
  {
   "cell_type": "code",
   "execution_count": 41,
   "id": "c6cf5ed2-4b1e-4b3e-afdb-1840682ba82e",
   "metadata": {
    "tags": []
   },
   "outputs": [
    {
     "name": "stdout",
     "output_type": "stream",
     "text": [
      "Казань\n"
     ]
    }
   ],
   "source": [
    "print(df.loc[\"c\", \"Город\"]) # Получим город Ольги"
   ]
  },
  {
   "cell_type": "code",
   "execution_count": 42,
   "id": "4d73f4ed-d13d-4ff9-9103-fe5a8f9480b8",
   "metadata": {
    "tags": []
   },
   "outputs": [
    {
     "name": "stdout",
     "output_type": "stream",
     "text": [
      "     Имя  Возраст   Город\n",
      "a   Анна       25  Москва\n",
      "c  Ольга       22  Казань\n"
     ]
    }
   ],
   "source": [
    "print(df.loc[[\"a\", \"c\"]]) # Выбор строк \"a\" и \"c\""
   ]
  },
  {
   "cell_type": "code",
   "execution_count": 44,
   "id": "ccbe5a0c-1605-4353-b518-4968a1753922",
   "metadata": {
    "tags": []
   },
   "outputs": [
    {
     "name": "stdout",
     "output_type": "stream",
     "text": [
      "     Имя        Город\n",
      "a   Анна       Москва\n",
      "b   Иван          СПб\n",
      "c  Ольга       Казань\n",
      "d   Петр  Новосибирск\n"
     ]
    }
   ],
   "source": [
    "print(df.loc[:, [\"Имя\", \"Город\"]]) # Выбор всех строк, но только двух столбцов"
   ]
  },
  {
   "cell_type": "code",
   "execution_count": 45,
   "id": "e5ba980c-ccf8-43ce-8064-0d8a2c40f062",
   "metadata": {
    "tags": []
   },
   "outputs": [
    {
     "name": "stdout",
     "output_type": "stream",
     "text": [
      "    Имя  Возраст        Город\n",
      "b  Иван       30          СПб\n",
      "d  Петр       40  Новосибирск\n"
     ]
    }
   ],
   "source": [
    "print(df.loc[df[\"Возраст\"] > 25])"
   ]
  },
  {
   "cell_type": "code",
   "execution_count": 46,
   "id": "078fdc20-e67d-479d-ac87-e4fe8d5d3aaa",
   "metadata": {
    "tags": []
   },
   "outputs": [
    {
     "name": "stdout",
     "output_type": "stream",
     "text": [
      "Имя        Иван\n",
      "Возраст      30\n",
      "Город       СПб\n",
      "Name: b, dtype: object\n"
     ]
    }
   ],
   "source": [
    "print(df.iloc[1])"
   ]
  },
  {
   "cell_type": "code",
   "execution_count": 47,
   "id": "52e69a0d-5486-4f54-b1ca-90c205fa5dc3",
   "metadata": {
    "tags": []
   },
   "outputs": [
    {
     "name": "stdout",
     "output_type": "stream",
     "text": [
      "Казань\n"
     ]
    }
   ],
   "source": [
    "print(df.iloc[2, 2])"
   ]
  },
  {
   "cell_type": "code",
   "execution_count": 48,
   "id": "388749bb-d65f-4f97-b9b2-be6c5deca886",
   "metadata": {
    "tags": []
   },
   "outputs": [
    {
     "name": "stdout",
     "output_type": "stream",
     "text": [
      "     Имя  Возраст   Город\n",
      "a   Анна       25  Москва\n",
      "c  Ольга       22  Казань\n"
     ]
    }
   ],
   "source": [
    "print(df.iloc[[0, 2]])"
   ]
  },
  {
   "cell_type": "code",
   "execution_count": 49,
   "id": "90199110-ffcf-493c-9588-4e95e83b4e74",
   "metadata": {
    "tags": []
   },
   "outputs": [
    {
     "name": "stdout",
     "output_type": "stream",
     "text": [
      "     Имя  Возраст   Город\n",
      "b   Иван       30     СПб\n",
      "c  Ольга       22  Казань\n"
     ]
    }
   ],
   "source": [
    "print(df.iloc[1:3])"
   ]
  },
  {
   "cell_type": "code",
   "execution_count": 50,
   "id": "bbc9dfab-a404-48f3-9e30-42971865d33a",
   "metadata": {
    "tags": []
   },
   "outputs": [
    {
     "name": "stdout",
     "output_type": "stream",
     "text": [
      "     Имя        Город\n",
      "a   Анна       Москва\n",
      "b   Иван          СПб\n",
      "c  Ольга       Казань\n",
      "d   Петр  Новосибирск\n"
     ]
    }
   ],
   "source": [
    "print(df.iloc[:, [0, 2]])"
   ]
  },
  {
   "cell_type": "code",
   "execution_count": 51,
   "id": "2ab90db7-0dba-421a-85f2-98eabfba68e5",
   "metadata": {
    "tags": []
   },
   "outputs": [
    {
     "name": "stdout",
     "output_type": "stream",
     "text": [
      "Казань\n"
     ]
    }
   ],
   "source": [
    "print(df.at[\"c\", \"Город\"])"
   ]
  },
  {
   "cell_type": "code",
   "execution_count": 52,
   "id": "bc973c84-c273-4902-b048-0a02e139dc28",
   "metadata": {
    "tags": []
   },
   "outputs": [
    {
     "name": "stdout",
     "output_type": "stream",
     "text": [
      "Казань\n"
     ]
    }
   ],
   "source": [
    "print(df.iat[2, 2])"
   ]
  },
  {
   "cell_type": "code",
   "execution_count": 53,
   "id": "4014c051-10c6-4019-9003-8bc03f105e61",
   "metadata": {
    "tags": []
   },
   "outputs": [
    {
     "name": "stdout",
     "output_type": "stream",
     "text": [
      "     Имя  Возраст   Город\n",
      "0   Анна       25  Москва\n",
      "1   Иван       30     СПб\n",
      "2  Ольга       22  Казань\n"
     ]
    }
   ],
   "source": [
    "import pandas as pd\n",
    "data = {\n",
    "\"Имя\": [\"Анна\", \"Иван\", \"Ольга\"],\n",
    "\"Возраст\": [25, 30, 22]\n",
    "}\n",
    "df = pd.DataFrame(data)\n",
    "df[\"Город\"] = [\"Москва\", \"СПб\", \"Казань\"] # Добавляем новый столбец\n",
    "print(df)"
   ]
  },
  {
   "cell_type": "code",
   "execution_count": 54,
   "id": "7ef9b231-43b1-4449-af61-f92f179a1652",
   "metadata": {
    "tags": []
   },
   "outputs": [
    {
     "name": "stdout",
     "output_type": "stream",
     "text": [
      "     Имя  Возраст   Город  Страна\n",
      "0   Анна       25  Москва  Россия\n",
      "1   Иван       30     СПб  Россия\n",
      "2  Ольга       22  Казань  Россия\n"
     ]
    }
   ],
   "source": [
    "df[\"Страна\"] = \"Россия\"\n",
    "print(df)"
   ]
  },
  {
   "cell_type": "code",
   "execution_count": 55,
   "id": "29b3d4c9-565f-46de-826a-cc61e3041ec4",
   "metadata": {
    "tags": []
   },
   "outputs": [
    {
     "name": "stdout",
     "output_type": "stream",
     "text": [
      "     Имя  Возраст   Город  Страна  Возраст_в_месяцах\n",
      "0   Анна       25  Москва  Россия                300\n",
      "1   Иван       30     СПб  Россия                360\n",
      "2  Ольга       22  Казань  Россия                264\n"
     ]
    }
   ],
   "source": [
    "df[\"Возраст_в_месяцах\"] = df[\"Возраст\"] * 12\n",
    "print(df)"
   ]
  },
  {
   "cell_type": "code",
   "execution_count": 56,
   "id": "9eb2794a-b89f-4021-848b-28e91a4b5480",
   "metadata": {
    "tags": []
   },
   "outputs": [
    {
     "name": "stdout",
     "output_type": "stream",
     "text": [
      "     Имя  Возраст   Город  Страна  Возраст_в_месяцах  Зарплата\n",
      "0   Анна       25  Москва  Россия                300     50000\n",
      "1   Иван       30     СПб  Россия                360     60000\n",
      "2  Ольга       22  Казань  Россия                264     45000\n"
     ]
    }
   ],
   "source": [
    "df = df.assign(Зарплата=[50000, 60000, 45000])\n",
    "print(df)"
   ]
  },
  {
   "cell_type": "code",
   "execution_count": 59,
   "id": "ec5b9785-7a2e-4b5b-83cb-b7f8a50a5d6c",
   "metadata": {
    "tags": []
   },
   "outputs": [
    {
     "name": "stdout",
     "output_type": "stream",
     "text": [
      "     Имя  Возраст   Город  Страна  Возраст_в_месяцах  Зарплата  \\\n",
      "0   Анна       25  Москва  Россия                300     50000   \n",
      "1   Иван       30     СПб  Россия                360     60000   \n",
      "2  Ольга       22  Казань  Россия                264     45000   \n",
      "\n",
      "  Категория возраста  \n",
      "0            Молодой  \n",
      "1           Взрослый  \n",
      "2            Молодой  \n"
     ]
    }
   ],
   "source": [
    "df[\"Категория возраста\"] = df[\"Возраст\"].apply(lambda x: \"Молодой\" if \n",
    "x < 30 else \"Взрослый\")\n",
    "print(df)"
   ]
  },
  {
   "cell_type": "code",
   "execution_count": 45,
   "id": "3061679e-de35-4470-8933-3bd9299f9770",
   "metadata": {
    "tags": []
   },
   "outputs": [
    {
     "name": "stdout",
     "output_type": "stream",
     "text": [
      "     Имя  Возраст        Город\n",
      "0   Анна       25       Москва\n",
      "1   Петр       30          СПб\n",
      "2  Мария       28       Казань\n",
      "3   Петр       40  Новосибирск\n"
     ]
    }
   ],
   "source": [
    "import pandas as pd\n",
    "\n",
    "df = pd.DataFrame({\n",
    "    \"Имя\": [\"Анна\", \"Петр\", \"Мария\"],\n",
    "    \"Возраст\": [25, 30, 28],\n",
    "    \"Город\": [\"Москва\", \"СПб\", \"Казань\"]\n",
    "})\n",
    "\n",
    "df.loc[3] = [\"Петр\", 40, \"Новосибирск\"]\n",
    "\n",
    "print(df)"
   ]
  },
  {
   "cell_type": "code",
   "execution_count": 53,
   "id": "9107d2a2-9c21-4723-aab8-c8a73e69a2a0",
   "metadata": {},
   "outputs": [
    {
     "name": "stdout",
     "output_type": "stream",
     "text": [
      "      Имя  Возраст   Город  Страна\n",
      "0    Анна       25  Москва  Россия\n",
      "1    Петр       30     СПб  Россия\n",
      "2   Мария       28  Казань  Россия\n",
      "3  Сергей       35    Сочи  Россия\n"
     ]
    }
   ],
   "source": [
    "import pandas as pd\n",
    "\n",
    "\n",
    "data = {\n",
    "    \"Имя\": [\"Анна\", \"Петр\", \"Мария\"],\n",
    "    \"Возраст\": [25, 30, 28],\n",
    "    \"Город\": [\"Москва\", \"СПб\", \"Казань\"],\n",
    "    \"Страна\": [\"Россия\", \"Россия\", \"Россия\"]\n",
    "}\n",
    "df = pd.DataFrame(data)\n",
    "\n",
    "\n",
    "new_row = {\"Имя\": \"Сергей\", \"Возраст\": 35, \"Город\": \"Сочи\", \"Страна\": \"Россия\"}\n",
    "\n",
    "\n",
    "df = pd.concat(\n",
    "    [df, pd.DataFrame([new_row])],\n",
    "    ignore_index=True  \n",
    ")\n",
    "\n",
    "print(df)"
   ]
  },
  {
   "cell_type": "code",
   "execution_count": 55,
   "id": "62ee6f6f-7b2c-4121-b100-348d19f3654a",
   "metadata": {
    "tags": []
   },
   "outputs": [
    {
     "name": "stdout",
     "output_type": "stream",
     "text": [
      "       Имя  Возраст   Город  Страна\n",
      "0     Анна       25  Москва  Россия\n",
      "1     Петр       30     СПб  Россия\n",
      "2    Мария       28  Казань  Россия\n",
      "3   Сергей       35    Сочи  Россия\n",
      "4  Алексей       29   Томск  Россия\n"
     ]
    }
   ],
   "source": [
    "new_data = pd.DataFrame([{\"Имя\": \"Алексей\", \"Возраст\": 29, \"Город\":\n",
    "\"Томск\", \"Страна\": \"Россия\"}])\n",
    "df = pd.concat([df, new_data], ignore_index=True)\n",
    "print(df)"
   ]
  },
  {
   "cell_type": "code",
   "execution_count": 57,
   "id": "e5d9a95d-5b95-4de0-b31c-1cd43e6624e7",
   "metadata": {},
   "outputs": [
    {
     "name": "stdout",
     "output_type": "stream",
     "text": [
      "       Имя  Возраст    Город  Страна\n",
      "0     Анна       25   Москва  Россия\n",
      "1     Петр       30      СПб  Россия\n",
      "2    Мария       28   Казань  Россия\n",
      "3   Сергей       35     Сочи  Россия\n",
      "4  Алексей       29    Томск  Россия\n",
      "5  Дмитрий       31   Самара  Россия\n",
      "6    Елена       27  Воронеж  Россия\n"
     ]
    }
   ],
   "source": [
    "new_rows = pd.DataFrame([{\"Имя\": \"Дмитрий\", \"Возраст\": 31, \"Город\": \"Самара\", \"Страна\":\n",
    "\"Россия\"},\n",
    "{\"Имя\": \"Елена\", \"Возраст\": 27, \"Город\": \"Воронеж\", \"Страна\":\n",
    "\"Россия\"}\n",
    "])\n",
    "df = pd.concat([df, new_rows], ignore_index=True)\n",
    "print(df)"
   ]
  },
  {
   "cell_type": "code",
   "execution_count": 59,
   "id": "e1bb5a82-d548-45b5-a6ed-bb0d57d60722",
   "metadata": {},
   "outputs": [
    {
     "name": "stdout",
     "output_type": "stream",
     "text": [
      "           Имя  Возраст    Город  Страна\n",
      "0         Анна       25   Москва  Россия\n",
      "1         Петр       30      СПб  Россия\n",
      "2        Мария       28   Казань  Россия\n",
      "3       Сергей       35     Сочи  Россия\n",
      "4      Алексей       29    Томск  Россия\n",
      "5      Дмитрий       31   Самара  Россия\n",
      "6        Елена       27  Воронеж  Россия\n",
      "новый    Артем       33   Калуга  Россия\n"
     ]
    }
   ],
   "source": [
    "df.loc[\"новый\"] = [\"Артем\", 33, \"Калуга\", \"Россия\"]\n",
    "print(df)"
   ]
  },
  {
   "cell_type": "code",
   "execution_count": 61,
   "id": "e375e397-c0f6-4509-be1b-009568e27ebf",
   "metadata": {},
   "outputs": [
    {
     "name": "stdout",
     "output_type": "stream",
     "text": [
      "     Имя  Возраст   Город\n",
      "0   Анна       25  Москва\n",
      "1   Иван       30     СПб\n",
      "2  Ольга       22  Казань\n"
     ]
    }
   ],
   "source": [
    "import pandas as pd\n",
    "data = {\n",
    "\"Имя\": [\"Анна\", \"Иван\", \"Ольга\"],\n",
    "\"Возраст\": [25, 30, 22],\n",
    "\"Город\": [\"Москва\", \"СПб\", \"Казань\"],\n",
    "\"Зарплата\": [50000, 60000, 45000]\n",
    "}\n",
    "df = pd.DataFrame(data)\n",
    "# Удаляем столбец \"Зарплата\"\n",
    "df = df.drop(columns=[\"Зарплата\"])\n",
    "print(df)"
   ]
  },
  {
   "cell_type": "code",
   "execution_count": 63,
   "id": "cf0434ff-6ab4-4e7b-9dcc-966156cf357c",
   "metadata": {},
   "outputs": [
    {
     "name": "stdout",
     "output_type": "stream",
     "text": [
      "     Имя\n",
      "0   Анна\n",
      "1   Иван\n",
      "2  Ольга\n"
     ]
    }
   ],
   "source": [
    "df = df.drop(columns=[\"Возраст\", \"Город\"])\n",
    "print(df)"
   ]
  },
  {
   "cell_type": "code",
   "execution_count": 65,
   "id": "979c3437-d068-42d7-9849-fe13bcabfd11",
   "metadata": {},
   "outputs": [
    {
     "name": "stdout",
     "output_type": "stream",
     "text": [
      "Empty DataFrame\n",
      "Columns: []\n",
      "Index: [0, 1, 2]\n"
     ]
    }
   ],
   "source": [
    "del df[\"Имя\"]\n",
    "print(df)"
   ]
  },
  {
   "cell_type": "code",
   "execution_count": 67,
   "id": "28a4facc-26f2-4251-9608-1d4d3e9471f1",
   "metadata": {},
   "outputs": [
    {
     "name": "stdout",
     "output_type": "stream",
     "text": [
      "0     Анна\n",
      "1     Иван\n",
      "2    Ольга\n",
      "Name: Имя, dtype: object\n"
     ]
    }
   ],
   "source": [
    "df[\"Имя\"] = [\"Анна\", \"Иван\", \"Ольга\"] # Вернем столбец для примера\n",
    "удаленный_столбец = df.pop(\"Имя\")\n",
    "print(удаленный_столбец)"
   ]
  },
  {
   "cell_type": "code",
   "execution_count": 69,
   "id": "fbdb0084-1a6d-47c9-8f8c-47f35b10ae5e",
   "metadata": {},
   "outputs": [
    {
     "name": "stdout",
     "output_type": "stream",
     "text": [
      "     Имя  Возраст   Город  Зарплата\n",
      "0   Анна       25  Москва     50000\n",
      "2  Ольга       22  Казань     45000\n"
     ]
    }
   ],
   "source": [
    "df = pd.DataFrame(data) # Восстанавливаем DataFrame\n",
    "# Удаляем строку с индексом 1 (Иван)\n",
    "df = df.drop(index=1)\n",
    "print(df)"
   ]
  },
  {
   "cell_type": "code",
   "execution_count": 71,
   "id": "456cd66b-5f09-4882-b445-72dc9917d57a",
   "metadata": {},
   "outputs": [
    {
     "name": "stdout",
     "output_type": "stream",
     "text": [
      "Empty DataFrame\n",
      "Columns: [Имя, Возраст, Город, Зарплата]\n",
      "Index: []\n"
     ]
    }
   ],
   "source": [
    "df = df.drop(index=[0, 2]) # Удаляем Анну и Ольгу\n",
    "print(df)"
   ]
  },
  {
   "cell_type": "code",
   "execution_count": 73,
   "id": "4da133ba-bfa7-464a-bb65-10a29ad075a0",
   "metadata": {},
   "outputs": [
    {
     "name": "stdout",
     "output_type": "stream",
     "text": [
      "    Имя  Возраст Город  Зарплата\n",
      "1  Иван       30   СПб     60000\n"
     ]
    }
   ],
   "source": [
    "df = pd.DataFrame(data) # Восстанавливаем DataFrame\n",
    "# Оставляем только людей старше 25 лет\n",
    "df = df[df[\"Возраст\"] > 25]\n",
    "print(df)"
   ]
  },
  {
   "cell_type": "code",
   "execution_count": 75,
   "id": "a91d647f-6825-463d-95de-2ad8a8140f47",
   "metadata": {},
   "outputs": [
    {
     "name": "stdout",
     "output_type": "stream",
     "text": [
      "    Имя  Возраст Город  Зарплата\n",
      "0  Иван       30   СПб     60000\n"
     ]
    }
   ],
   "source": [
    "df = df.reset_index(drop=True) # Сбрасываем индексы\n",
    "print(df)"
   ]
  },
  {
   "cell_type": "code",
   "execution_count": 81,
   "id": "1faeccbb-32b0-4ee9-871a-509936084a1f",
   "metadata": {},
   "outputs": [
    {
     "name": "stdout",
     "output_type": "stream",
     "text": [
      "Очищенные данные:\n",
      "    Имя  Возраст   Город  Зарплата\n",
      "0  Анна     25.0  Москва     45000\n",
      "1  Петр     30.0     СПб     60000\n",
      "2  Иван     28.0  Казань     52000\n"
     ]
    }
   ],
   "source": [
    "import pandas as pd\n",
    "import numpy as np\n",
    "\n",
    "# Создаем пример DataFrame\n",
    "data = {\n",
    "    \"Имя\": [\"Анна\", \"Петр\", \"Иван\"],\n",
    "    \"Возраст\": [25, 30, 28],\n",
    "    \"Город\": [\"Москва\", \"СПб\", \"Казань\"],\n",
    "    \"Зарплата\": [45000, 60000, 52000]\n",
    "}\n",
    "df = pd.DataFrame(data)\n",
    "\n",
    "# Добавляем строку с пропущенным значением (используем np.nan)\n",
    "df.loc[3] = [\"Мария\", np.nan, \"Самара\", 55000]\n",
    "\n",
    "# Удаляем строки с пропусками\n",
    "df_clean = df.dropna()\n",
    "\n",
    "print(\"Очищенные данные:\")\n",
    "print(df_clean)"
   ]
  },
  {
   "cell_type": "code",
   "execution_count": 83,
   "id": "305a8ee7-1e13-43c4-9912-4f5316842a66",
   "metadata": {},
   "outputs": [
    {
     "name": "stdout",
     "output_type": "stream",
     "text": [
      "     Имя  Возраст\n",
      "0   Анна       25\n",
      "1   Иван       30\n",
      "3  Ольга       22\n"
     ]
    }
   ],
   "source": [
    "df = pd.DataFrame({\n",
    "\"Имя\": [\"Анна\", \"Иван\", \"Анна\", \"Ольга\"],\n",
    "\"Возраст\": [25, 30, 25, 22]\n",
    "})\n",
    "df = df.drop_duplicates()\n",
    "print(df)"
   ]
  },
  {
   "cell_type": "code",
   "execution_count": 85,
   "id": "6e45889d-26ac-4c27-a51e-e19e531223a3",
   "metadata": {},
   "outputs": [],
   "source": [
    "df = df.drop_duplicates(subset=[\"Имя\"])"
   ]
  },
  {
   "cell_type": "code",
   "execution_count": 87,
   "id": "62791d53-e3fa-4035-8254-bb5f6c00fd4c",
   "metadata": {},
   "outputs": [
    {
     "name": "stdout",
     "output_type": "stream",
     "text": [
      "     Имя  Возраст        Город  Зарплата\n",
      "0   Анна       25       Москва     50000\n",
      "1   Иван       30          СПб     60000\n",
      "2  Ольга       22       Казань     45000\n",
      "3   Петр       40  Новосибирск     70000\n",
      "4  Мария       35          СПб     65000\n"
     ]
    }
   ],
   "source": [
    "import pandas as pd\n",
    "data = {\n",
    "\"Имя\": [\"Анна\", \"Иван\", \"Ольга\", \"Петр\", \"Мария\"],\n",
    "\"Возраст\": [25, 30, 22, 40, 35],\n",
    "\"Город\": [\"Москва\", \"СПб\", \"Казань\", \"Новосибирск\", \"СПб\"],\n",
    "\"Зарплата\": [50000, 60000, 45000, 70000, 65000]\n",
    "}\n",
    "df = pd.DataFrame(data)\n",
    "print(df)"
   ]
  },
  {
   "cell_type": "code",
   "execution_count": 89,
   "id": "e9b8304b-1d93-48cf-b48e-1ec32b1759e7",
   "metadata": {},
   "outputs": [
    {
     "name": "stdout",
     "output_type": "stream",
     "text": [
      "     Имя  Возраст        Город  Зарплата\n",
      "3   Петр       40  Новосибирск     70000\n",
      "4  Мария       35          СПб     65000\n"
     ]
    }
   ],
   "source": [
    "df_filtered = df.query(\"Возраст > 30\")\n",
    "print(df_filtered)"
   ]
  },
  {
   "cell_type": "code",
   "execution_count": 91,
   "id": "1945aca8-34a2-45c6-85ad-4bddfb610631",
   "metadata": {},
   "outputs": [
    {
     "name": "stdout",
     "output_type": "stream",
     "text": [
      "     Имя  Возраст Город  Зарплата\n",
      "4  Мария       35   СПб     65000\n"
     ]
    }
   ],
   "source": [
    "df_filtered = df.query(\"Город == 'СПб' and Зарплата > 60000\")\n",
    "print(df_filtered)"
   ]
  },
  {
   "cell_type": "code",
   "execution_count": 93,
   "id": "6e5df75c-7b48-4365-a5cc-ba09717963e9",
   "metadata": {},
   "outputs": [
    {
     "name": "stdout",
     "output_type": "stream",
     "text": [
      "     Имя  Возраст        Город  Зарплата\n",
      "1   Иван       30          СПб     60000\n",
      "3   Петр       40  Новосибирск     70000\n",
      "4  Мария       35          СПб     65000\n"
     ]
    }
   ],
   "source": [
    "min_age = 25\n",
    "df_filtered = df.query(\"Возраст > @min_age\")\n",
    "print(df_filtered)"
   ]
  },
  {
   "cell_type": "code",
   "execution_count": 95,
   "id": "cb031db8-b531-470d-82cc-658f913a4b4f",
   "metadata": {},
   "outputs": [
    {
     "name": "stdout",
     "output_type": "stream",
     "text": [
      "     Имя  Возраст   Город  Зарплата\n",
      "0   Анна       25  Москва     50000\n",
      "1   Иван       30     СПб     60000\n",
      "4  Мария       35     СПб     65000\n"
     ]
    }
   ],
   "source": [
    "df_filtered = df[df[\"Город\"].isin([\"Москва\", \"СПб\"])]\n",
    "print(df_filtered)"
   ]
  },
  {
   "cell_type": "code",
   "execution_count": 97,
   "id": "b604e952-7715-48e6-b4be-56804aee6cc8",
   "metadata": {},
   "outputs": [
    {
     "name": "stdout",
     "output_type": "stream",
     "text": [
      "     Имя  Возраст        Город  Зарплата\n",
      "2  Ольга       22       Казань     45000\n",
      "3   Петр       40  Новосибирск     70000\n"
     ]
    }
   ],
   "source": [
    "df_filtered = df[~df[\"Город\"].isin([\"Москва\", \"СПб\"])]\n",
    "print(df_filtered)"
   ]
  },
  {
   "cell_type": "code",
   "execution_count": 99,
   "id": "17f87fce-6486-418c-b92a-1a99e6affb09",
   "metadata": {},
   "outputs": [
    {
     "name": "stdout",
     "output_type": "stream",
     "text": [
      "     Имя  Возраст   Город  Зарплата\n",
      "0   Анна       25  Москва     50000\n",
      "1   Иван       30     СПб     60000\n",
      "4  Мария       35     СПб     65000\n"
     ]
    }
   ],
   "source": [
    "df_filtered = df[df[\"Возраст\"].between(25, 35)]\n",
    "print(df_filtered)"
   ]
  },
  {
   "cell_type": "code",
   "execution_count": 101,
   "id": "fc3bd26d-e530-4c42-8e24-786cd8822c7d",
   "metadata": {},
   "outputs": [
    {
     "name": "stdout",
     "output_type": "stream",
     "text": [
      "    Имя  Возраст Город  Зарплата\n",
      "1  Иван       30   СПб     60000\n"
     ]
    }
   ],
   "source": [
    "df_filtered = df[df[\"Возраст\"].between(25, 35, inclusive=\"neither\")]\n",
    "print(df_filtered)"
   ]
  },
  {
   "cell_type": "code",
   "execution_count": 103,
   "id": "649e21c1-18ed-4b93-abe0-4d6686fdb624",
   "metadata": {},
   "outputs": [
    {
     "name": "stdout",
     "output_type": "stream",
     "text": [
      "     Имя  Возраст        Город\n",
      "0   Анна     25.0       Москва\n",
      "1   Иван     30.0          СПб\n",
      "2  Ольга     22.0       Казань\n",
      "3   Петр      NaN  Новосибирск\n",
      "4   None     35.0          СПб\n"
     ]
    }
   ],
   "source": [
    "import pandas as pd\n",
    "data = {\"Имя\": [\"Анна\", \"Иван\", \"Ольга\", \"Петр\", None],\n",
    "\"Возраст\": [25, 30, 22, None, 35],\n",
    "\"Город\": [\"Москва\", \"СПб\", \"Казань\", \"Новосибирск\", \"СПб\"]\n",
    "}\n",
    "df = pd.DataFrame(data)\n",
    "print(df)"
   ]
  },
  {
   "cell_type": "code",
   "execution_count": 105,
   "id": "084ebb78-84cd-4199-9a3f-c5a25fa657bf",
   "metadata": {},
   "outputs": [
    {
     "name": "stdout",
     "output_type": "stream",
     "text": [
      "Имя        4\n",
      "Возраст    4\n",
      "Город      5\n",
      "dtype: int64\n"
     ]
    }
   ],
   "source": [
    "print(df.count())"
   ]
  },
  {
   "cell_type": "code",
   "execution_count": 107,
   "id": "d64b000d-d19b-4d36-a940-8dff468f6340",
   "metadata": {},
   "outputs": [
    {
     "name": "stdout",
     "output_type": "stream",
     "text": [
      "Город\n",
      "СПб            2\n",
      "Москва         1\n",
      "Казань         1\n",
      "Новосибирск    1\n",
      "Name: count, dtype: int64\n"
     ]
    }
   ],
   "source": [
    "print(df[\"Город\"].value_counts())"
   ]
  },
  {
   "cell_type": "code",
   "execution_count": 109,
   "id": "a40e773e-5c8f-46d3-851b-273a5e78be8b",
   "metadata": {},
   "outputs": [
    {
     "name": "stdout",
     "output_type": "stream",
     "text": [
      "Город\n",
      "Москва         1\n",
      "СПб            2\n",
      "Казань         1\n",
      "Новосибирск    1\n",
      "Name: count, dtype: int64\n"
     ]
    }
   ],
   "source": [
    "print(df[\"Город\"].value_counts(sort=False))"
   ]
  },
  {
   "cell_type": "code",
   "execution_count": 111,
   "id": "61bf6259-6171-41d3-b924-c2ae2b14e623",
   "metadata": {},
   "outputs": [
    {
     "name": "stdout",
     "output_type": "stream",
     "text": [
      "Имя\n",
      "Анна     1\n",
      "Иван     1\n",
      "Ольга    1\n",
      "Петр     1\n",
      "None     1\n",
      "Name: count, dtype: int64\n"
     ]
    }
   ],
   "source": [
    "print(df[\"Имя\"].value_counts(dropna=False))"
   ]
  },
  {
   "cell_type": "code",
   "execution_count": 113,
   "id": "4c121a4e-63d2-44cd-a885-040b0bf03696",
   "metadata": {},
   "outputs": [
    {
     "name": "stdout",
     "output_type": "stream",
     "text": [
      "Имя        4\n",
      "Возраст    4\n",
      "Город      4\n",
      "dtype: int64\n"
     ]
    }
   ],
   "source": [
    "print(df.nunique())"
   ]
  },
  {
   "cell_type": "code",
   "execution_count": 115,
   "id": "6961a621-46a2-42c6-b068-dfd192c2bc35",
   "metadata": {},
   "outputs": [
    {
     "name": "stdout",
     "output_type": "stream",
     "text": [
      "5\n"
     ]
    }
   ],
   "source": [
    "print(df[\"Имя\"].nunique(dropna=False))"
   ]
  },
  {
   "cell_type": "code",
   "execution_count": 117,
   "id": "05797a13-dbc8-4fd5-b315-65ff87a6b7ab",
   "metadata": {},
   "outputs": [
    {
     "name": "stdout",
     "output_type": "stream",
     "text": [
      "Имя        1\n",
      "Возраст    1\n",
      "Город      0\n",
      "dtype: int64\n"
     ]
    }
   ],
   "source": [
    "print(df.isna().sum())"
   ]
  },
  {
   "cell_type": "code",
   "execution_count": 119,
   "id": "eaf1baac-3e2d-4244-b0a4-7c11872ea25c",
   "metadata": {},
   "outputs": [
    {
     "name": "stdout",
     "output_type": "stream",
     "text": [
      "     Имя  Возраст  Зарплата\n",
      "0   Анна       25     50000\n",
      "1   Иван       30     60000\n",
      "2  Ольга       22     45000\n",
      "3   Петр       40     70000\n",
      "4  Мария       35     65000\n"
     ]
    }
   ],
   "source": [
    "import pandas as pd\n",
    "data = {\n",
    "\"Имя\": [\"Анна\", \"Иван\", \"Ольга\", \"Петр\", \"Мария\"],\n",
    "\"Возраст\": [25, 30, 22, 40, 35],\n",
    "\"Зарплата\": [50000, 60000, 45000, 70000, 65000]\n",
    "}\n",
    "df = pd.DataFrame(data)\n",
    "print(df)"
   ]
  },
  {
   "cell_type": "code",
   "execution_count": 121,
   "id": "0f0a21e3-c23c-4554-9233-68316eba7981",
   "metadata": {},
   "outputs": [
    {
     "name": "stdout",
     "output_type": "stream",
     "text": [
      "     Имя  Возраст  Зарплата\n",
      "2  Ольга       22     45000\n",
      "0   Анна       25     50000\n",
      "1   Иван       30     60000\n",
      "4  Мария       35     65000\n",
      "3   Петр       40     70000\n"
     ]
    }
   ],
   "source": [
    "df_sorted = df.sort_values(by=\"Возраст\")\n",
    "print(df_sorted)"
   ]
  },
  {
   "cell_type": "code",
   "execution_count": 123,
   "id": "33cf2e6d-a5bd-44f9-aef2-f8b27b04b0fa",
   "metadata": {},
   "outputs": [
    {
     "name": "stdout",
     "output_type": "stream",
     "text": [
      "     Имя  Возраст  Зарплата\n",
      "3   Петр       40     70000\n",
      "4  Мария       35     65000\n",
      "1   Иван       30     60000\n",
      "0   Анна       25     50000\n",
      "2  Ольга       22     45000\n"
     ]
    }
   ],
   "source": [
    "df_sorted = df.sort_values(by=\"Возраст\", ascending=False)\n",
    "print(df_sorted)"
   ]
  },
  {
   "cell_type": "code",
   "execution_count": 125,
   "id": "85efad45-9af1-4d05-bf22-824b0b912574",
   "metadata": {},
   "outputs": [
    {
     "name": "stdout",
     "output_type": "stream",
     "text": [
      "     Имя  Возраст  Зарплата\n",
      "2  Ольга       22     45000\n",
      "0   Анна       25     50000\n",
      "1   Иван       30     60000\n",
      "4  Мария       35     65000\n",
      "3   Петр       40     70000\n"
     ]
    }
   ],
   "source": [
    "df_sorted = df.sort_values(by=[\"Возраст\", \"Зарплата\"], ascending=\n",
    "[True, False])\n",
    "print(df_sorted)"
   ]
  },
  {
   "cell_type": "code",
   "execution_count": 127,
   "id": "56ec7689-36b1-47ae-8741-5e2c63984866",
   "metadata": {},
   "outputs": [
    {
     "name": "stdout",
     "output_type": "stream",
     "text": [
      "     Имя Возраст  Зарплата\n",
      "5  Елена    None     55000\n",
      "2  Ольга      22     45000\n",
      "0   Анна      25     50000\n",
      "1   Иван      30     60000\n",
      "4  Мария      35     65000\n",
      "3   Петр      40     70000\n"
     ]
    }
   ],
   "source": [
    "df.loc[5] = [\"Елена\", None, 55000] # Добавляем строку с NaN в\n",
    "\"Возраст\"\n",
    "df_sorted = df.sort_values(by=\"Возраст\", na_position=\"first\")\n",
    "print(df_sorted)"
   ]
  },
  {
   "cell_type": "code",
   "execution_count": 129,
   "id": "41ba1ed5-7d6c-4ef2-b7dd-4b0c782e8a9b",
   "metadata": {},
   "outputs": [
    {
     "name": "stdout",
     "output_type": "stream",
     "text": [
      "     Имя Возраст  Зарплата\n",
      "0   Анна      25     50000\n",
      "1   Иван      30     60000\n",
      "2  Ольга      22     45000\n",
      "3   Петр      40     70000\n",
      "4  Мария      35     65000\n",
      "5  Елена    None     55000\n"
     ]
    }
   ],
   "source": [
    "df_sorted = df.sort_index()\n",
    "print(df_sorted)"
   ]
  },
  {
   "cell_type": "code",
   "execution_count": 131,
   "id": "c3d50b99-0ed8-42ba-81bf-30ca0608e1cd",
   "metadata": {},
   "outputs": [
    {
     "name": "stdout",
     "output_type": "stream",
     "text": [
      "     Имя Возраст  Зарплата\n",
      "5  Елена    None     55000\n",
      "4  Мария      35     65000\n",
      "3   Петр      40     70000\n",
      "2  Ольга      22     45000\n",
      "1   Иван      30     60000\n",
      "0   Анна      25     50000\n"
     ]
    }
   ],
   "source": [
    "df_sorted = df.sort_index(ascending=False)\n",
    "print(df_sorted)"
   ]
  },
  {
   "cell_type": "code",
   "execution_count": 133,
   "id": "e6dd8ace-501a-4de5-bd4e-bf471f2765fd",
   "metadata": {},
   "outputs": [
    {
     "name": "stdout",
     "output_type": "stream",
     "text": [
      "     Имя  Возраст   Город\n",
      "0   Анна       25  Москва\n",
      "1   Иван       30     СПб\n",
      "2  Ольга       22  Казань\n"
     ]
    }
   ],
   "source": [
    "import pandas as pd\n",
    "df = pd.DataFrame({\n",
    "\"Имя\": [\"Анна\", \"Иван\", \"Ольга\"],\n",
    "\"Возраст\": [25, 30, 22],\n",
    "\"Город\": [\"Москва\", \"СПб\", \"Казань\"]\n",
    "})\n",
    "print(df)"
   ]
  },
  {
   "cell_type": "code",
   "execution_count": 135,
   "id": "cdefdd79-a376-4001-915a-52a363d334cd",
   "metadata": {},
   "outputs": [
    {
     "data": {
      "text/html": [
       "<div>\n",
       "<style scoped>\n",
       "    .dataframe tbody tr th:only-of-type {\n",
       "        vertical-align: middle;\n",
       "    }\n",
       "\n",
       "    .dataframe tbody tr th {\n",
       "        vertical-align: top;\n",
       "    }\n",
       "\n",
       "    .dataframe thead th {\n",
       "        text-align: right;\n",
       "    }\n",
       "</style>\n",
       "<table border=\"1\" class=\"dataframe\">\n",
       "  <thead>\n",
       "    <tr style=\"text-align: right;\">\n",
       "      <th></th>\n",
       "      <th>Имя</th>\n",
       "      <th>Возраст</th>\n",
       "      <th>Город</th>\n",
       "    </tr>\n",
       "  </thead>\n",
       "  <tbody>\n",
       "    <tr>\n",
       "      <th>0</th>\n",
       "      <td>Анна</td>\n",
       "      <td>25</td>\n",
       "      <td>Москва</td>\n",
       "    </tr>\n",
       "    <tr>\n",
       "      <th>1</th>\n",
       "      <td>Иван</td>\n",
       "      <td>30</td>\n",
       "      <td>СПб</td>\n",
       "    </tr>\n",
       "    <tr>\n",
       "      <th>2</th>\n",
       "      <td>Ольга</td>\n",
       "      <td>22</td>\n",
       "      <td>Казань</td>\n",
       "    </tr>\n",
       "  </tbody>\n",
       "</table>\n",
       "</div>"
      ],
      "text/plain": [
       "     Имя  Возраст   Город\n",
       "0   Анна       25  Москва\n",
       "1   Иван       30     СПб\n",
       "2  Ольга       22  Казань"
      ]
     },
     "metadata": {},
     "output_type": "display_data"
    }
   ],
   "source": [
    "from IPython.display import display\n",
    "display(df)"
   ]
  },
  {
   "cell_type": "code",
   "execution_count": 137,
   "id": "cfafec61-d13d-4c1f-9513-0485095bf00b",
   "metadata": {},
   "outputs": [
    {
     "data": {
      "text/html": [
       "<div>\n",
       "<style scoped>\n",
       "    .dataframe tbody tr th:only-of-type {\n",
       "        vertical-align: middle;\n",
       "    }\n",
       "\n",
       "    .dataframe tbody tr th {\n",
       "        vertical-align: top;\n",
       "    }\n",
       "\n",
       "    .dataframe thead th {\n",
       "        text-align: right;\n",
       "    }\n",
       "</style>\n",
       "<table border=\"1\" class=\"dataframe\">\n",
       "  <thead>\n",
       "    <tr style=\"text-align: right;\">\n",
       "      <th></th>\n",
       "      <th>Имя</th>\n",
       "      <th>Возраст</th>\n",
       "      <th>Город</th>\n",
       "    </tr>\n",
       "  </thead>\n",
       "  <tbody>\n",
       "    <tr>\n",
       "      <th>0</th>\n",
       "      <td>Анна</td>\n",
       "      <td>25</td>\n",
       "      <td>Москва</td>\n",
       "    </tr>\n",
       "    <tr>\n",
       "      <th>1</th>\n",
       "      <td>Иван</td>\n",
       "      <td>30</td>\n",
       "      <td>СПб</td>\n",
       "    </tr>\n",
       "    <tr>\n",
       "      <th>2</th>\n",
       "      <td>Ольга</td>\n",
       "      <td>22</td>\n",
       "      <td>Казань</td>\n",
       "    </tr>\n",
       "  </tbody>\n",
       "</table>\n",
       "</div>"
      ],
      "text/plain": [
       "     Имя  Возраст   Город\n",
       "0   Анна       25  Москва\n",
       "1   Иван       30     СПб\n",
       "2  Ольга       22  Казань"
      ]
     },
     "execution_count": 137,
     "metadata": {},
     "output_type": "execute_result"
    }
   ],
   "source": [
    "\n",
    "df.head(5) # Выведет первые 5 строк"
   ]
  },
  {
   "cell_type": "code",
   "execution_count": 139,
   "id": "dd94b3fc-0857-47cf-8c75-72df6535a33e",
   "metadata": {},
   "outputs": [
    {
     "data": {
      "text/html": [
       "<div>\n",
       "<style scoped>\n",
       "    .dataframe tbody tr th:only-of-type {\n",
       "        vertical-align: middle;\n",
       "    }\n",
       "\n",
       "    .dataframe tbody tr th {\n",
       "        vertical-align: top;\n",
       "    }\n",
       "\n",
       "    .dataframe thead th {\n",
       "        text-align: right;\n",
       "    }\n",
       "</style>\n",
       "<table border=\"1\" class=\"dataframe\">\n",
       "  <thead>\n",
       "    <tr style=\"text-align: right;\">\n",
       "      <th></th>\n",
       "      <th>Имя</th>\n",
       "      <th>Возраст</th>\n",
       "      <th>Город</th>\n",
       "    </tr>\n",
       "  </thead>\n",
       "  <tbody>\n",
       "    <tr>\n",
       "      <th>0</th>\n",
       "      <td>Анна</td>\n",
       "      <td>25</td>\n",
       "      <td>Москва</td>\n",
       "    </tr>\n",
       "    <tr>\n",
       "      <th>1</th>\n",
       "      <td>Иван</td>\n",
       "      <td>30</td>\n",
       "      <td>СПб</td>\n",
       "    </tr>\n",
       "    <tr>\n",
       "      <th>2</th>\n",
       "      <td>Ольга</td>\n",
       "      <td>22</td>\n",
       "      <td>Казань</td>\n",
       "    </tr>\n",
       "  </tbody>\n",
       "</table>\n",
       "</div>"
      ],
      "text/plain": [
       "     Имя  Возраст   Город\n",
       "0   Анна       25  Москва\n",
       "1   Иван       30     СПб\n",
       "2  Ольга       22  Казань"
      ]
     },
     "execution_count": 139,
     "metadata": {},
     "output_type": "execute_result"
    }
   ],
   "source": [
    "df.tail(3) # Выведет последние 3 строки"
   ]
  },
  {
   "cell_type": "code",
   "execution_count": 143,
   "id": "eca983e1-cd01-4925-90a9-0dcbdfc471d7",
   "metadata": {},
   "outputs": [],
   "source": [
    "pd.set_option(\"display.max_rows\", 100) # Показывать до 100 строк"
   ]
  },
  {
   "cell_type": "code",
   "execution_count": 145,
   "id": "52a0aa57-d472-4262-8f0f-ce5aa87ae11e",
   "metadata": {},
   "outputs": [],
   "source": [
    "pd.set_option(\"display.max_columns\", 50) # Показывать до 50 столбцов"
   ]
  },
  {
   "cell_type": "code",
   "execution_count": 147,
   "id": "5e577741-ca3a-4841-8fba-178e54d25454",
   "metadata": {},
   "outputs": [],
   "source": [
    "pd.set_option(\"display.max_colwidth\", None)"
   ]
  },
  {
   "cell_type": "code",
   "execution_count": 149,
   "id": "0562db77-9ca4-4699-a64d-afbbfccdbd85",
   "metadata": {},
   "outputs": [],
   "source": [
    "pd.set_option(\"display.float_format\", \"{:.2f}\".format)"
   ]
  },
  {
   "cell_type": "code",
   "execution_count": 151,
   "id": "f7658d7c-a698-4c2e-a387-04478797b6e9",
   "metadata": {},
   "outputs": [
    {
     "data": {
      "text/html": [
       "<style type=\"text/css\">\n",
       "#T_a3837 thead tr th:nth-child(1) {\n",
       "  position: sticky;\n",
       "  background-color: inherit;\n",
       "  left: 0px;\n",
       "  z-index: 3 !important;\n",
       "}\n",
       "#T_a3837 tbody tr th:nth-child(1) {\n",
       "  position: sticky;\n",
       "  background-color: inherit;\n",
       "  left: 0px;\n",
       "  z-index: 1;\n",
       "}\n",
       "</style>\n",
       "<table id=\"T_a3837\">\n",
       "  <thead>\n",
       "    <tr>\n",
       "      <th class=\"blank level0\" >&nbsp;</th>\n",
       "      <th id=\"T_a3837_level0_col0\" class=\"col_heading level0 col0\" >Имя</th>\n",
       "      <th id=\"T_a3837_level0_col1\" class=\"col_heading level0 col1\" >Возраст</th>\n",
       "      <th id=\"T_a3837_level0_col2\" class=\"col_heading level0 col2\" >Город</th>\n",
       "    </tr>\n",
       "  </thead>\n",
       "  <tbody>\n",
       "    <tr>\n",
       "      <th id=\"T_a3837_level0_row0\" class=\"row_heading level0 row0\" >0</th>\n",
       "      <td id=\"T_a3837_row0_col0\" class=\"data row0 col0\" >Анна</td>\n",
       "      <td id=\"T_a3837_row0_col1\" class=\"data row0 col1\" >25</td>\n",
       "      <td id=\"T_a3837_row0_col2\" class=\"data row0 col2\" >Москва</td>\n",
       "    </tr>\n",
       "    <tr>\n",
       "      <th id=\"T_a3837_level0_row1\" class=\"row_heading level0 row1\" >1</th>\n",
       "      <td id=\"T_a3837_row1_col0\" class=\"data row1 col0\" >Иван</td>\n",
       "      <td id=\"T_a3837_row1_col1\" class=\"data row1 col1\" >30</td>\n",
       "      <td id=\"T_a3837_row1_col2\" class=\"data row1 col2\" >СПб</td>\n",
       "    </tr>\n",
       "    <tr>\n",
       "      <th id=\"T_a3837_level0_row2\" class=\"row_heading level0 row2\" >2</th>\n",
       "      <td id=\"T_a3837_row2_col0\" class=\"data row2 col0\" >Ольга</td>\n",
       "      <td id=\"T_a3837_row2_col1\" class=\"data row2 col1\" >22</td>\n",
       "      <td id=\"T_a3837_row2_col2\" class=\"data row2 col2\" >Казань</td>\n",
       "    </tr>\n",
       "  </tbody>\n",
       "</table>\n"
      ],
      "text/plain": [
       "<pandas.io.formats.style.Styler at 0x244cbe98f80>"
      ]
     },
     "execution_count": 151,
     "metadata": {},
     "output_type": "execute_result"
    }
   ],
   "source": [
    "df.style.set_sticky()"
   ]
  },
  {
   "cell_type": "code",
   "execution_count": 184,
   "id": "d5996b5b-ea94-42be-8f10-dbeebf8fb734",
   "metadata": {},
   "outputs": [
    {
     "name": "stdout",
     "output_type": "stream",
     "text": [
      "|    | Имя   |   Возраст | Город   |\n",
      "|----|-------|-----------|---------|\n",
      "|  0 | Анна  |        25 | Москва  |\n",
      "|  1 | Иван  |        30 | СПб     |\n",
      "|  2 | Ольга |        22 | Казань  |\n"
     ]
    }
   ],
   "source": [
    "from tabulate import tabulate\n",
    "print(tabulate(df, headers=\"keys\", tablefmt=\"github\"))"
   ]
  },
  {
   "cell_type": "code",
   "execution_count": 186,
   "id": "f7c8482c-2cdb-4c6d-a94f-5a688fb26fac",
   "metadata": {},
   "outputs": [
    {
     "data": {
      "text/html": [
       "<style type=\"text/css\">\n",
       "#T_0e01e_row0_col0, #T_0e01e_row0_col1, #T_0e01e_row0_col2, #T_0e01e_row1_col0, #T_0e01e_row1_col1, #T_0e01e_row1_col2, #T_0e01e_row2_col0, #T_0e01e_row2_col1, #T_0e01e_row2_col2 {\n",
       "  background-color: lightgray;\n",
       "  color: black;\n",
       "}\n",
       "</style>\n",
       "<table id=\"T_0e01e\">\n",
       "  <thead>\n",
       "    <tr>\n",
       "      <th class=\"blank level0\" >&nbsp;</th>\n",
       "      <th id=\"T_0e01e_level0_col0\" class=\"col_heading level0 col0\" >Имя</th>\n",
       "      <th id=\"T_0e01e_level0_col1\" class=\"col_heading level0 col1\" >Возраст</th>\n",
       "      <th id=\"T_0e01e_level0_col2\" class=\"col_heading level0 col2\" >Город</th>\n",
       "    </tr>\n",
       "  </thead>\n",
       "  <tbody>\n",
       "    <tr>\n",
       "      <th id=\"T_0e01e_level0_row0\" class=\"row_heading level0 row0\" >0</th>\n",
       "      <td id=\"T_0e01e_row0_col0\" class=\"data row0 col0\" >Анна</td>\n",
       "      <td id=\"T_0e01e_row0_col1\" class=\"data row0 col1\" >25</td>\n",
       "      <td id=\"T_0e01e_row0_col2\" class=\"data row0 col2\" >Москва</td>\n",
       "    </tr>\n",
       "    <tr>\n",
       "      <th id=\"T_0e01e_level0_row1\" class=\"row_heading level0 row1\" >1</th>\n",
       "      <td id=\"T_0e01e_row1_col0\" class=\"data row1 col0\" >Иван</td>\n",
       "      <td id=\"T_0e01e_row1_col1\" class=\"data row1 col1\" >30</td>\n",
       "      <td id=\"T_0e01e_row1_col2\" class=\"data row1 col2\" >СПб</td>\n",
       "    </tr>\n",
       "    <tr>\n",
       "      <th id=\"T_0e01e_level0_row2\" class=\"row_heading level0 row2\" >2</th>\n",
       "      <td id=\"T_0e01e_row2_col0\" class=\"data row2 col0\" >Ольга</td>\n",
       "      <td id=\"T_0e01e_row2_col1\" class=\"data row2 col1\" >22</td>\n",
       "      <td id=\"T_0e01e_row2_col2\" class=\"data row2 col2\" >Казань</td>\n",
       "    </tr>\n",
       "  </tbody>\n",
       "</table>\n"
      ],
      "text/plain": [
       "<pandas.io.formats.style.Styler at 0x244cc9ac470>"
      ]
     },
     "execution_count": 186,
     "metadata": {},
     "output_type": "execute_result"
    }
   ],
   "source": [
    "df.style.set_properties(**{\"background-color\": \"lightgray\", \"color\": \"black\"})"
   ]
  },
  {
   "cell_type": "code",
   "execution_count": 192,
   "id": "50b6a9dd-7808-4d9a-80af-1611118f1e5f",
   "metadata": {},
   "outputs": [],
   "source": [
    "html_table = df.to_html()\n",
    "with open(\"table.html\", \"w\", encoding=\"utf-8\") as f: f.write(html_table)"
   ]
  },
  {
   "cell_type": "code",
   "execution_count": null,
   "id": "45eb3aae-21ee-4467-bc61-0c1c19c13339",
   "metadata": {},
   "outputs": [],
   "source": []
  }
 ],
 "metadata": {
  "kernelspec": {
   "display_name": "Python [conda env:base] *",
   "language": "python",
   "name": "conda-base-py"
  },
  "language_info": {
   "codemirror_mode": {
    "name": "ipython",
    "version": 3
   },
   "file_extension": ".py",
   "mimetype": "text/x-python",
   "name": "python",
   "nbconvert_exporter": "python",
   "pygments_lexer": "ipython3",
   "version": "3.12.7"
  }
 },
 "nbformat": 4,
 "nbformat_minor": 5
}

{
 "cells": [
  {
   "cell_type": "code",
   "execution_count": 1,
   "id": "f73191d0-acbc-4181-a7e6-3747067c493b",
   "metadata": {},
   "outputs": [
    {
     "name": "stdout",
     "output_type": "stream",
     "text": [
      "\n",
      "Введите данные студента (для завершения введите 'exit'):\n"
     ]
    },
    {
     "name": "stdin",
     "output_type": "stream",
     "text": [
      "Фамилия и инициалы:  4\n",
      "Номер группы:  1\n",
      "Оценка по математике:  4\n",
      "Оценка по физике:  4\n",
      "Оценка по химии:  4\n"
     ]
    },
    {
     "name": "stderr",
     "output_type": "stream",
     "text": [
      "C:\\Users\\user\\AppData\\Local\\Temp\\ipykernel_13852\\2157512292.py:26: FutureWarning: The behavior of DataFrame concatenation with empty or all-NA entries is deprecated. In a future version, this will no longer exclude empty or all-NA columns when determining the result dtypes. To retain the old behavior, exclude the relevant entries before the concat operation.\n",
      "  df = pd.concat([df, pd.DataFrame([new_row])], ignore_index=True)\n"
     ]
    },
    {
     "name": "stdout",
     "output_type": "stream",
     "text": [
      "\n",
      "Введите данные студента (для завершения введите 'exit'):\n"
     ]
    },
    {
     "name": "stdin",
     "output_type": "stream",
     "text": [
      "Фамилия и инициалы:  Кто я кто я\n",
      "Номер группы:  4\n",
      "Оценка по математике:  4\n",
      "Оценка по физике:  4\n",
      "Оценка по химии:  4\n"
     ]
    },
    {
     "name": "stdout",
     "output_type": "stream",
     "text": [
      "\n",
      "Введите данные студента (для завершения введите 'exit'):\n"
     ]
    },
    {
     "name": "stdin",
     "output_type": "stream",
     "text": [
      "Фамилия и инициалы:  exit\n"
     ]
    },
    {
     "name": "stdout",
     "output_type": "stream",
     "text": [
      "\n",
      "Нет студентов со средним баллом выше 4.0.\n"
     ]
    }
   ],
   "source": [
    "import pandas as pd\n",
    "\n",
    "# Создаем пустой DataFrame с нужными колонками\n",
    "columns = ['Фамилия и инициалы', 'Номер группы', 'Математика', 'Физика', 'Химия']\n",
    "df = pd.DataFrame(columns=columns)\n",
    "\n",
    "# Ввод данных с клавиатуры\n",
    "while True:\n",
    "    print(\"\\nВведите данные студента (для завершения введите 'exit'):\")\n",
    "    surname = input(\"Фамилия и инициалы: \")\n",
    "    if surname.lower() == 'exit':\n",
    "        break\n",
    "    group = input(\"Номер группы: \")\n",
    "    math = float(input(\"Оценка по математике: \"))\n",
    "    physics = float(input(\"Оценка по физике: \"))\n",
    "    chemistry = float(input(\"Оценка по химии: \"))\n",
    "    \n",
    "    # Добавляем данные в DataFrame\n",
    "    new_row = {\n",
    "        'Фамилия и инициалы': surname,\n",
    "        'Номер группы': group,\n",
    "        'Математика': math,\n",
    "        'Физика': physics,\n",
    "        'Химия': chemistry\n",
    "    }\n",
    "    df = pd.concat([df, pd.DataFrame([new_row])], ignore_index=True)\n",
    "\n",
    "# Сортируем по номеру группы\n",
    "df['Номер группы'] = df['Номер группы'].astype(int)\n",
    "df = df.sort_values(by='Номер группы')\n",
    "\n",
    "# Рассчитываем средний балл\n",
    "df['Средний балл'] = df[['Математика', 'Физика', 'Химия']].mean(axis=1)\n",
    "\n",
    "# Фильтруем студентов с средним баллом > 4.0\n",
    "filtered_df = df[df['Средний балл'] > 4.0]\n",
    "\n",
    "# Выводим результат\n",
    "if not filtered_df.empty:\n",
    "    print(\"\\nСтуденты со средним баллом выше 4.0:\")\n",
    "    print(filtered_df[['Фамилия и инициалы', 'Номер группы']].to_string(index=False))\n",
    "else:\n",
    "    print(\"\\nНет студентов со средним баллом выше 4.0.\")"
   ]
  },
  {
   "cell_type": "code",
   "execution_count": null,
   "id": "1c8ba64f-56f2-4b6c-9376-ea4ee0da387f",
   "metadata": {},
   "outputs": [],
   "source": []
  }
 ],
 "metadata": {
  "kernelspec": {
   "display_name": "Python [conda env:base] *",
   "language": "python",
   "name": "conda-base-py"
  },
  "language_info": {
   "codemirror_mode": {
    "name": "ipython",
    "version": 3
   },
   "file_extension": ".py",
   "mimetype": "text/x-python",
   "name": "python",
   "nbconvert_exporter": "python",
   "pygments_lexer": "ipython3",
   "version": "3.12.7"
  }
 },
 "nbformat": 4,
 "nbformat_minor": 5
}
